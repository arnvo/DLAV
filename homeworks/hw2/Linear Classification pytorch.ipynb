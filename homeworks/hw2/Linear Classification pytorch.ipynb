{
  "cells": [
    {
      "cell_type": "markdown",
      "metadata": {
        "id": "AyPbJlzoyA5N"
      },
      "source": [
        "\n",
        "\n",
        "```\n",
        "# This is formatted as code\n",
        "```\n",
        "\n",
        "# Linear Classification\n",
        "\n",
        " Implement Linear Classification using pytorch. This consists of having fully connected layers connected one after the other and ReLu activation functions between them.\n",
        "\n",
        " Build a neural network with a minimun of 2 layers in order to do classification."
      ]
    },
    {
      "cell_type": "markdown",
      "source": [
        "Permit the notebook to access your drive"
      ],
      "metadata": {
        "id": "Stm2Nhxlso2r"
      }
    },
    {
      "cell_type": "code",
      "source": [
        "from google.colab import drive\n",
        "drive.mount('/content/drive')"
      ],
      "metadata": {
        "id": "ESXccfIu1H7u"
      },
      "execution_count": null,
      "outputs": []
    },
    {
      "cell_type": "code",
      "execution_count": 14,
      "metadata": {
        "id": "whJSL42iyA5S",
        "colab": {
          "base_uri": "https://localhost:8080/"
        },
        "outputId": "56cd880b-1051-4f0c-808b-392dad6e8dba"
      },
      "outputs": [
        {
          "output_type": "execute_result",
          "data": {
            "text/plain": [
              "<torch._C.Generator at 0x7cc57818d0f0>"
            ]
          },
          "metadata": {},
          "execution_count": 14
        }
      ],
      "source": [
        "import torch\n",
        "import torch.nn.functional as F\n",
        "from torchvision import datasets, transforms\n",
        "import numpy as np\n",
        "import torch.utils.data as utils\n",
        "import time\n",
        "import pdb\n",
        "from torch.utils.data.sampler import SubsetRandomSampler\n",
        "%matplotlib inline\n",
        "\n",
        "torch.manual_seed(1)    # reproducible"
      ]
    },
    {
      "cell_type": "markdown",
      "source": [
        "Get the dataset"
      ],
      "metadata": {
        "id": "zeTqh7pgs0JA"
      }
    },
    {
      "cell_type": "code",
      "execution_count": 15,
      "metadata": {
        "id": "zahsf3gOyA5U"
      },
      "outputs": [],
      "source": [
        "def get_train_valid_loader(data_dir='../data',\n",
        "                           batch_size=64,\n",
        "                           augment=False,\n",
        "                           random_seed = 1,\n",
        "                           valid_size=0.02,\n",
        "                           shuffle=True,\n",
        "                           show_sample=False,\n",
        "                           num_workers=4,\n",
        "                           pin_memory=False):\n",
        "    \"\"\"\n",
        "    Utility function for loading and returning train and valid\n",
        "    multi-process iterators over the CIFAR-10 dataset. A sample\n",
        "    9x9 grid of the images can be optionally displayed.\n",
        "    If using CUDA, num_workers should be set to 1 and pin_memory to True.\n",
        "    Params\n",
        "    ------\n",
        "    - data_dir: path directory to the dataset.\n",
        "    - batch_size: how many samples per batch to load.\n",
        "    - augment: whether to apply the data augmentation scheme\n",
        "      mentioned in the paper. Only applied on the train split.\n",
        "    - random_seed: fix seed for reproducibility.\n",
        "    - valid_size: percentage split of the training set used for\n",
        "      the validation set. Should be a float in the range [0, 1].\n",
        "    - shuffle: whether to shuffle the train/validation indices.\n",
        "    - show_sample: plot 9x9 sample grid of the dataset.\n",
        "    - num_workers: number of subprocesses to use when loading the dataset.\n",
        "    - pin_memory: whether to copy tensors into CUDA pinned memory. Set it to\n",
        "      True if using GPU.\n",
        "    Returns\n",
        "    -------\n",
        "    - train_loader: training set iterator.\n",
        "    - valid_loader: validation set iterator.\n",
        "    \"\"\"\n",
        "    error_msg = \"[!] valid_size should be in the range [0, 1].\"\n",
        "    assert ((valid_size >= 0) and (valid_size <= 1)), error_msg\n",
        "\n",
        "    normalize = transforms.Normalize(\n",
        "        mean=[0.4914, 0.4822, 0.4465],\n",
        "        std=[0.2023, 0.1994, 0.2010],\n",
        "    )\n",
        "\n",
        "    # define transforms\n",
        "    valid_transform = transforms.Compose([\n",
        "            transforms.ToTensor(),\n",
        "            normalize,\n",
        "    ])\n",
        "    if augment:\n",
        "        train_transform = transforms.Compose([\n",
        "            transforms.RandomCrop(32, padding=4),\n",
        "            transforms.RandomHorizontalFlip(),\n",
        "            transforms.ToTensor(),\n",
        "            normalize,\n",
        "        ])\n",
        "    else:\n",
        "        train_transform = transforms.Compose([\n",
        "            transforms.ToTensor(),\n",
        "            normalize,\n",
        "        ])\n",
        "\n",
        "    # load the dataset\n",
        "    train_dataset = datasets.CIFAR10(\n",
        "        root=data_dir, train=True,\n",
        "        download=True, transform=train_transform,\n",
        "    )\n",
        "\n",
        "    valid_dataset = datasets.CIFAR10(\n",
        "        root=data_dir, train=True,\n",
        "        download=True, transform=valid_transform,\n",
        "    )\n",
        "\n",
        "    num_train = len(train_dataset)\n",
        "    indices = list(range(num_train))\n",
        "    split = int(np.floor(valid_size * num_train))\n",
        "\n",
        "    if shuffle:\n",
        "        np.random.seed(random_seed)\n",
        "        np.random.shuffle(indices)\n",
        "\n",
        "    train_idx, valid_idx = indices[split:], indices[:split]\n",
        "    train_sampler = SubsetRandomSampler(train_idx)\n",
        "    valid_sampler = SubsetRandomSampler(valid_idx)\n",
        "\n",
        "    train_loader = torch.utils.data.DataLoader(\n",
        "        train_dataset, batch_size=batch_size, sampler=train_sampler,\n",
        "        num_workers=num_workers, pin_memory=pin_memory,\n",
        "    )\n",
        "    valid_loader = torch.utils.data.DataLoader(\n",
        "        valid_dataset, batch_size=batch_size, sampler=valid_sampler,\n",
        "        num_workers=num_workers, pin_memory=pin_memory,\n",
        "    )\n",
        "\n",
        "    # visualize some images\n",
        "    if show_sample:\n",
        "        sample_loader = torch.utils.data.DataLoader(\n",
        "            train_dataset, batch_size=9, shuffle=shuffle,\n",
        "            num_workers=num_workers, pin_memory=pin_memory,\n",
        "        )\n",
        "        data_iter = iter(sample_loader)\n",
        "        images, labels = data_iter.next()\n",
        "        X = images.numpy().transpose([0, 2, 3, 1])\n",
        "        plot_images(X, labels)\n",
        "\n",
        "    return (train_loader, valid_loader)\n",
        "\n",
        "trainloader, valloader = get_train_valid_loader()"
      ]
    },
    {
      "cell_type": "code",
      "source": [
        "a=iter(trainloader)\n",
        "image = next(a)"
      ],
      "metadata": {
        "colab": {
          "base_uri": "https://localhost:8080/"
        },
        "id": "I7RkTmXU4xCr",
        "outputId": "bfb91280-e0c9-47d2-d977-33ca937a554d"
      },
      "execution_count": 48,
      "outputs": [
        {
          "output_type": "stream",
          "name": "stderr",
          "text": [
            "/usr/local/lib/python3.11/dist-packages/torch/utils/data/dataloader.py:624: UserWarning: This DataLoader will create 4 worker processes in total. Our suggested max number of worker in current system is 2, which is smaller than what this DataLoader is going to create. Please be aware that excessive worker creation might get DataLoader running slow or even freeze, lower the worker number to avoid potential slowness/freeze if necessary.\n",
            "  warnings.warn(\n"
          ]
        }
      ]
    },
    {
      "cell_type": "code",
      "source": [
        "len(image[1].unique())"
      ],
      "metadata": {
        "colab": {
          "base_uri": "https://localhost:8080/"
        },
        "id": "W30Pvr75-vyS",
        "outputId": "15ce4ef8-e0a7-4bb5-97ce-188024a88d98"
      },
      "execution_count": 71,
      "outputs": [
        {
          "output_type": "execute_result",
          "data": {
            "text/plain": [
              "10"
            ]
          },
          "metadata": {},
          "execution_count": 71
        }
      ]
    },
    {
      "cell_type": "code",
      "source": [
        "import matplotlib.pyplot as plt\n",
        "\n",
        "image_np=image[0][0,2].numpy()\n",
        "# Plot the grayscale image\n",
        "plt.imshow(image_np, cmap=\"gray\")  # Use 'gray' colormap for grayscale images\n",
        "plt.colorbar()  # Optional: Show intensity scale\n",
        "plt.axis(\"off\")  # Hide axis for better visualization\n",
        "plt.show()"
      ],
      "metadata": {
        "colab": {
          "base_uri": "https://localhost:8080/",
          "height": 406
        },
        "id": "fjNZMKAa4zY3",
        "outputId": "417a9e8b-f464-4c90-c019-7a8bfe9bbc02"
      },
      "execution_count": 62,
      "outputs": [
        {
          "output_type": "display_data",
          "data": {
            "text/plain": [
              "<Figure size 640x480 with 2 Axes>"
            ],
            "image/png": "[encoded data removed]"
          },
          "metadata": {}
        }
      ]
    },
    {
      "cell_type": "markdown",
      "source": [
        "Define the network"
      ],
      "metadata": {
        "id": "dr58pZjGs3fF"
      }
    },
    {
      "cell_type": "code",
      "execution_count": 65,
      "metadata": {
        "id": "OYHld_YfyA5Z"
      },
      "outputs": [],
      "source": [
        "class Net(torch.nn.Module):\n",
        "    def __init__(self, n_feature, n_hidden, n_output):\n",
        "        super(Net, self).__init__()\n",
        "\n",
        "        self.fc1 = torch.nn.Linear(n_feature,n_hidden)\n",
        "        self.fc2 = torch.nn.Linear(n_hidden,n_hidden)\n",
        "        self.fc3 = torch.nn.Linear(n_hidden,n_output)\n",
        "\n",
        "    def forward(self, x):\n",
        "        x = x.view(x.size(0),-1)\n",
        "        x=self.fc1(x)\n",
        "        x=F.relu(x)\n",
        "        x=self.fc2(x)\n",
        "        x=F.relu(x)\n",
        "        x=self.fc2(x)\n",
        "        return x"
      ]
    },
    {
      "cell_type": "code",
      "execution_count": 74,
      "metadata": {
        "id": "E0ynI2OZyA5a",
        "colab": {
          "base_uri": "https://localhost:8080/"
        },
        "outputId": "cb03b393-6f8a-47ec-cdc1-784749b10b52"
      },
      "outputs": [
        {
          "output_type": "stream",
          "name": "stdout",
          "text": [
            "Net(\n",
            "  (fc1): Linear(in_features=3072, out_features=500, bias=True)\n",
            "  (fc2): Linear(in_features=500, out_features=500, bias=True)\n",
            "  (fc3): Linear(in_features=500, out_features=10, bias=True)\n",
            ")\n"
          ]
        }
      ],
      "source": [
        "################################################################################\n",
        "# TODO:                                                                        #\n",
        "# Define the parameters of the network the way you want it to be.              #\n",
        "# Choose an Optimizer that will be used to minimize the loss function.         #\n",
        "################################################################################\n",
        "#net = Net(n_feature=3*32*32, n_hidden=500, n_output=10)     # define the network\n",
        "#print(net)  # net architecture\n",
        "\n",
        "# Loss and Optimizer (Try different learning rates)\n",
        "# Softmax is internally computed.\n",
        "# Set parameters to be updated.\n",
        "\n",
        "#optimizer = torch.optim.SGD(net.parameters(), lr=lr) # Choose the optimizer you want and tune its hyperparameter\n",
        "#loss_func = torch.nn.CrossEntropyLoss()  # the target label is NOT an one-hotted\n",
        "################################################################################\n",
        "#                              END OF YOUR CODE                                #\n",
        "################################################################################"
      ]
    },
    {
      "cell_type": "code",
      "execution_count": 83,
      "metadata": {
        "id": "FBUs_zOVyA5b",
        "colab": {
          "base_uri": "https://localhost:8080/"
        },
        "outputId": "45eeafd9-a878-4173-888a-53a28f5d4464"
      },
      "outputs": [
        {
          "output_type": "stream",
          "name": "stderr",
          "text": [
            "<ipython-input-83-1c0ba8a311c8>:49: UserWarning: Implicit dimension choice for softmax has been deprecated. Change the call to include dim=X as an argument.\n",
            "  _, predicted = torch.max(F.softmax(outputs).data, 1)\n"
          ]
        },
        {
          "output_type": "stream",
          "name": "stdout",
          "text": [
            "Accuracy of the network on the 1000 val images:                       0 %\n",
            "Accuracy of the network on the 1000 val images:                       0 %\n",
            "Accuracy of the network on the 1000 val images:                       0 %\n",
            "Accuracy of the network on the 1000 val images:                       0 %\n",
            "Accuracy of the network on the 1000 val images:                       0 %\n",
            "Accuracy of the network on the 1000 val images:                       0 %\n",
            "Accuracy of the network on the 1000 val images:                       0 %\n",
            "Accuracy of the network on the 1000 val images:                       0 %\n",
            "Accuracy of the network on the 1000 val images:                       1 %\n",
            "Accuracy of the network on the 1000 val images:                       2 %\n",
            "Accuracy of the network on the 1000 val images:                       4 %\n",
            "Accuracy of the network on the 1000 val images:                       7 %\n",
            "Accuracy of the network on the 1000 val images:                       9 %\n",
            "Accuracy of the network on the 1000 val images:                       12 %\n",
            "Accuracy of the network on the 1000 val images:                       14 %\n",
            "Accuracy of the network on the 1000 val images:                       16 %\n",
            "Accuracy of the network on the 1000 val images:                       18 %\n",
            "Accuracy of the network on the 1000 val images:                       19 %\n",
            "Accuracy of the network on the 1000 val images:                       20 %\n",
            "Accuracy of the network on the 1000 val images:                       20 %\n",
            "Accuracy of the network on the 1000 val images:                       21 %\n",
            "Accuracy of the network on the 1000 val images:                       21 %\n",
            "Accuracy of the network on the 1000 val images:                       21 %\n",
            "Accuracy of the network on the 1000 val images:                       21 %\n",
            "Accuracy of the network on the 1000 val images:                       22 %\n",
            "Accuracy of the network on the 1000 val images:                       22 %\n",
            "Accuracy of the network on the 1000 val images:                       22 %\n",
            "Accuracy of the network on the 1000 val images:                       22 %\n",
            "Accuracy of the network on the 1000 val images:                       22 %\n",
            "Accuracy of the network on the 1000 val images:                       22 %\n",
            "Accuracy of the network on the 1000 val images:                       23 %\n",
            "Accuracy of the network on the 1000 val images:                       23 %\n",
            "Accuracy of the network on the 1000 val images:                       23 %\n",
            "Accuracy of the network on the 1000 val images:                       23 %\n",
            "Accuracy of the network on the 1000 val images:                       24 %\n",
            "Accuracy of the network on the 1000 val images:                       24 %\n",
            "Accuracy of the network on the 1000 val images:                       25 %\n",
            "Accuracy of the network on the 1000 val images:                       24 %\n",
            "Finish lr 3e-06\n",
            "Accuracy of the network on the 1000 val images:                       0 %\n",
            "Accuracy of the network on the 1000 val images:                       1 %\n",
            "Accuracy of the network on the 1000 val images:                       1 %\n",
            "Accuracy of the network on the 1000 val images:                       2 %\n",
            "Accuracy of the network on the 1000 val images:                       3 %\n",
            "Accuracy of the network on the 1000 val images:                       4 %\n",
            "Accuracy of the network on the 1000 val images:                       6 %\n",
            "Accuracy of the network on the 1000 val images:                       8 %\n",
            "Accuracy of the network on the 1000 val images:                       10 %\n",
            "Accuracy of the network on the 1000 val images:                       13 %\n",
            "Accuracy of the network on the 1000 val images:                       16 %\n",
            "Accuracy of the network on the 1000 val images:                       17 %\n",
            "Accuracy of the network on the 1000 val images:                       18 %\n",
            "Accuracy of the network on the 1000 val images:                       19 %\n",
            "Accuracy of the network on the 1000 val images:                       19 %\n",
            "Accuracy of the network on the 1000 val images:                       20 %\n",
            "Accuracy of the network on the 1000 val images:                       20 %\n",
            "Accuracy of the network on the 1000 val images:                       21 %\n",
            "Accuracy of the network on the 1000 val images:                       20 %\n",
            "Accuracy of the network on the 1000 val images:                       20 %\n",
            "Accuracy of the network on the 1000 val images:                       20 %\n",
            "Accuracy of the network on the 1000 val images:                       20 %\n",
            "Accuracy of the network on the 1000 val images:                       20 %\n",
            "Accuracy of the network on the 1000 val images:                       20 %\n",
            "Accuracy of the network on the 1000 val images:                       21 %\n",
            "Accuracy of the network on the 1000 val images:                       21 %\n",
            "Accuracy of the network on the 1000 val images:                       21 %\n",
            "Accuracy of the network on the 1000 val images:                       16 %\n",
            "Accuracy of the network on the 1000 val images:                       19 %\n",
            "Accuracy of the network on the 1000 val images:                       21 %\n",
            "Accuracy of the network on the 1000 val images:                       24 %\n",
            "Accuracy of the network on the 1000 val images:                       23 %\n",
            "Accuracy of the network on the 1000 val images:                       23 %\n",
            "Accuracy of the network on the 1000 val images:                       21 %\n",
            "Accuracy of the network on the 1000 val images:                       23 %\n",
            "Accuracy of the network on the 1000 val images:                       27 %\n",
            "Accuracy of the network on the 1000 val images:                       22 %\n",
            "Accuracy of the network on the 1000 val images:                       19 %\n",
            "Finish lr 6.840761498584498e-06\n",
            "Accuracy of the network on the 1000 val images:                       0 %\n",
            "Accuracy of the network on the 1000 val images:                       0 %\n",
            "Accuracy of the network on the 1000 val images:                       0 %\n",
            "Accuracy of the network on the 1000 val images:                       2 %\n",
            "Accuracy of the network on the 1000 val images:                       8 %\n",
            "Accuracy of the network on the 1000 val images:                       14 %\n",
            "Accuracy of the network on the 1000 val images:                       19 %\n",
            "Accuracy of the network on the 1000 val images:                       20 %\n",
            "Accuracy of the network on the 1000 val images:                       21 %\n",
            "Accuracy of the network on the 1000 val images:                       22 %\n",
            "Accuracy of the network on the 1000 val images:                       22 %\n",
            "Accuracy of the network on the 1000 val images:                       21 %\n",
            "Accuracy of the network on the 1000 val images:                       20 %\n",
            "Accuracy of the network on the 1000 val images:                       20 %\n",
            "Accuracy of the network on the 1000 val images:                       20 %\n",
            "Accuracy of the network on the 1000 val images:                       21 %\n",
            "Accuracy of the network on the 1000 val images:                       20 %\n",
            "Accuracy of the network on the 1000 val images:                       22 %\n",
            "Accuracy of the network on the 1000 val images:                       23 %\n",
            "Accuracy of the network on the 1000 val images:                       22 %\n",
            "Accuracy of the network on the 1000 val images:                       19 %\n",
            "Accuracy of the network on the 1000 val images:                       23 %\n",
            "Accuracy of the network on the 1000 val images:                       24 %\n",
            "Accuracy of the network on the 1000 val images:                       21 %\n",
            "Accuracy of the network on the 1000 val images:                       24 %\n",
            "Accuracy of the network on the 1000 val images:                       24 %\n",
            "Accuracy of the network on the 1000 val images:                       24 %\n",
            "Accuracy of the network on the 1000 val images:                       18 %\n",
            "Accuracy of the network on the 1000 val images:                       21 %\n",
            "Accuracy of the network on the 1000 val images:                       23 %\n",
            "Accuracy of the network on the 1000 val images:                       19 %\n",
            "Accuracy of the network on the 1000 val images:                       20 %\n",
            "Accuracy of the network on the 1000 val images:                       21 %\n",
            "Accuracy of the network on the 1000 val images:                       21 %\n",
            "Accuracy of the network on the 1000 val images:                       23 %\n",
            "Accuracy of the network on the 1000 val images:                       21 %\n",
            "Accuracy of the network on the 1000 val images:                       22 %\n",
            "Accuracy of the network on the 1000 val images:                       24 %\n",
            "Finish lr 1.559867262683867e-05\n",
            "Accuracy of the network on the 1000 val images:                       0 %\n",
            "Accuracy of the network on the 1000 val images:                       1 %\n",
            "Accuracy of the network on the 1000 val images:                       7 %\n",
            "Accuracy of the network on the 1000 val images:                       19 %\n",
            "Accuracy of the network on the 1000 val images:                       22 %\n",
            "Accuracy of the network on the 1000 val images:                       22 %\n",
            "Accuracy of the network on the 1000 val images:                       22 %\n",
            "Accuracy of the network on the 1000 val images:                       21 %\n",
            "Accuracy of the network on the 1000 val images:                       21 %\n",
            "Accuracy of the network on the 1000 val images:                       22 %\n",
            "Accuracy of the network on the 1000 val images:                       23 %\n",
            "Accuracy of the network on the 1000 val images:                       25 %\n",
            "Accuracy of the network on the 1000 val images:                       17 %\n",
            "Accuracy of the network on the 1000 val images:                       19 %\n",
            "Accuracy of the network on the 1000 val images:                       23 %\n",
            "Accuracy of the network on the 1000 val images:                       25 %\n",
            "Accuracy of the network on the 1000 val images:                       22 %\n",
            "Accuracy of the network on the 1000 val images:                       22 %\n",
            "Accuracy of the network on the 1000 val images:                       22 %\n",
            "Accuracy of the network on the 1000 val images:                       18 %\n",
            "Accuracy of the network on the 1000 val images:                       24 %\n",
            "Accuracy of the network on the 1000 val images:                       21 %\n",
            "Accuracy of the network on the 1000 val images:                       24 %\n",
            "Accuracy of the network on the 1000 val images:                       21 %\n",
            "Accuracy of the network on the 1000 val images:                       22 %\n",
            "Accuracy of the network on the 1000 val images:                       20 %\n",
            "Accuracy of the network on the 1000 val images:                       21 %\n",
            "Accuracy of the network on the 1000 val images:                       23 %\n",
            "Accuracy of the network on the 1000 val images:                       25 %\n",
            "Accuracy of the network on the 1000 val images:                       21 %\n",
            "Accuracy of the network on the 1000 val images:                       25 %\n",
            "Accuracy of the network on the 1000 val images:                       21 %\n",
            "Accuracy of the network on the 1000 val images:                       22 %\n",
            "Accuracy of the network on the 1000 val images:                       21 %\n",
            "Accuracy of the network on the 1000 val images:                       28 %\n",
            "Accuracy of the network on the 1000 val images:                       24 %\n",
            "Accuracy of the network on the 1000 val images:                       25 %\n",
            "Accuracy of the network on the 1000 val images:                       25 %\n",
            "Finish lr 3.556893304490068e-05\n",
            "Accuracy of the network on the 1000 val images:                       0 %\n",
            "Accuracy of the network on the 1000 val images:                       2 %\n",
            "Accuracy of the network on the 1000 val images:                       15 %\n",
            "Accuracy of the network on the 1000 val images:                       19 %\n",
            "Accuracy of the network on the 1000 val images:                       21 %\n",
            "Accuracy of the network on the 1000 val images:                       21 %\n",
            "Accuracy of the network on the 1000 val images:                       21 %\n",
            "Accuracy of the network on the 1000 val images:                       22 %\n",
            "Accuracy of the network on the 1000 val images:                       22 %\n",
            "Accuracy of the network on the 1000 val images:                       19 %\n",
            "Accuracy of the network on the 1000 val images:                       19 %\n",
            "Accuracy of the network on the 1000 val images:                       25 %\n",
            "Accuracy of the network on the 1000 val images:                       23 %\n",
            "Accuracy of the network on the 1000 val images:                       18 %\n",
            "Accuracy of the network on the 1000 val images:                       19 %\n",
            "Accuracy of the network on the 1000 val images:                       22 %\n",
            "Accuracy of the network on the 1000 val images:                       18 %\n",
            "Accuracy of the network on the 1000 val images:                       19 %\n",
            "Accuracy of the network on the 1000 val images:                       20 %\n",
            "Accuracy of the network on the 1000 val images:                       22 %\n",
            "Accuracy of the network on the 1000 val images:                       22 %\n",
            "Accuracy of the network on the 1000 val images:                       17 %\n",
            "Accuracy of the network on the 1000 val images:                       24 %\n",
            "Accuracy of the network on the 1000 val images:                       26 %\n",
            "Accuracy of the network on the 1000 val images:                       26 %\n",
            "Accuracy of the network on the 1000 val images:                       26 %\n",
            "Accuracy of the network on the 1000 val images:                       19 %\n",
            "Accuracy of the network on the 1000 val images:                       23 %\n",
            "Accuracy of the network on the 1000 val images:                       26 %\n",
            "Accuracy of the network on the 1000 val images:                       27 %\n",
            "Accuracy of the network on the 1000 val images:                       27 %\n",
            "Accuracy of the network on the 1000 val images:                       22 %\n",
            "Accuracy of the network on the 1000 val images:                       24 %\n",
            "Accuracy of the network on the 1000 val images:                       22 %\n",
            "Accuracy of the network on the 1000 val images:                       26 %\n",
            "Accuracy of the network on the 1000 val images:                       22 %\n",
            "Accuracy of the network on the 1000 val images:                       25 %\n",
            "Accuracy of the network on the 1000 val images:                       27 %\n",
            "Finish lr 8.110619590642863e-05\n",
            "Accuracy of the network on the 1000 val images:                       0 %\n",
            "Accuracy of the network on the 1000 val images:                       18 %\n",
            "Accuracy of the network on the 1000 val images:                       22 %\n",
            "Accuracy of the network on the 1000 val images:                       19 %\n",
            "Accuracy of the network on the 1000 val images:                       20 %\n",
            "Accuracy of the network on the 1000 val images:                       20 %\n",
            "Accuracy of the network on the 1000 val images:                       22 %\n",
            "Accuracy of the network on the 1000 val images:                       23 %\n",
            "Accuracy of the network on the 1000 val images:                       18 %\n",
            "Accuracy of the network on the 1000 val images:                       19 %\n",
            "Accuracy of the network on the 1000 val images:                       19 %\n",
            "Accuracy of the network on the 1000 val images:                       18 %\n",
            "Accuracy of the network on the 1000 val images:                       16 %\n",
            "Accuracy of the network on the 1000 val images:                       20 %\n",
            "Accuracy of the network on the 1000 val images:                       20 %\n",
            "Accuracy of the network on the 1000 val images:                       22 %\n",
            "Accuracy of the network on the 1000 val images:                       21 %\n",
            "Accuracy of the network on the 1000 val images:                       20 %\n",
            "Accuracy of the network on the 1000 val images:                       23 %\n",
            "Accuracy of the network on the 1000 val images:                       17 %\n",
            "Accuracy of the network on the 1000 val images:                       23 %\n",
            "Accuracy of the network on the 1000 val images:                       23 %\n",
            "Accuracy of the network on the 1000 val images:                       28 %\n",
            "Accuracy of the network on the 1000 val images:                       27 %\n",
            "Accuracy of the network on the 1000 val images:                       25 %\n",
            "Accuracy of the network on the 1000 val images:                       26 %\n",
            "Accuracy of the network on the 1000 val images:                       30 %\n",
            "Accuracy of the network on the 1000 val images:                       26 %\n",
            "Accuracy of the network on the 1000 val images:                       23 %\n",
            "Accuracy of the network on the 1000 val images:                       26 %\n",
            "Accuracy of the network on the 1000 val images:                       24 %\n",
            "Accuracy of the network on the 1000 val images:                       26 %\n",
            "Accuracy of the network on the 1000 val images:                       26 %\n",
            "Accuracy of the network on the 1000 val images:                       24 %\n",
            "Accuracy of the network on the 1000 val images:                       23 %\n",
            "Accuracy of the network on the 1000 val images:                       23 %\n",
            "Accuracy of the network on the 1000 val images:                       24 %\n",
            "Accuracy of the network on the 1000 val images:                       20 %\n",
            "Finish lr 0.00018494271408444964\n",
            "Accuracy of the network on the 1000 val images:                       9 %\n",
            "Accuracy of the network on the 1000 val images:                       21 %\n",
            "Accuracy of the network on the 1000 val images:                       21 %\n",
            "Accuracy of the network on the 1000 val images:                       17 %\n",
            "Accuracy of the network on the 1000 val images:                       16 %\n",
            "Accuracy of the network on the 1000 val images:                       23 %\n",
            "Accuracy of the network on the 1000 val images:                       24 %\n",
            "Accuracy of the network on the 1000 val images:                       16 %\n",
            "Accuracy of the network on the 1000 val images:                       25 %\n",
            "Accuracy of the network on the 1000 val images:                       21 %\n",
            "Accuracy of the network on the 1000 val images:                       19 %\n",
            "Accuracy of the network on the 1000 val images:                       22 %\n",
            "Accuracy of the network on the 1000 val images:                       18 %\n",
            "Accuracy of the network on the 1000 val images:                       19 %\n",
            "Accuracy of the network on the 1000 val images:                       23 %\n",
            "Accuracy of the network on the 1000 val images:                       20 %\n",
            "Accuracy of the network on the 1000 val images:                       26 %\n",
            "Accuracy of the network on the 1000 val images:                       24 %\n",
            "Accuracy of the network on the 1000 val images:                       20 %\n",
            "Accuracy of the network on the 1000 val images:                       26 %\n",
            "Accuracy of the network on the 1000 val images:                       29 %\n",
            "Accuracy of the network on the 1000 val images:                       26 %\n",
            "Accuracy of the network on the 1000 val images:                       24 %\n",
            "Accuracy of the network on the 1000 val images:                       28 %\n",
            "Accuracy of the network on the 1000 val images:                       24 %\n",
            "Accuracy of the network on the 1000 val images:                       23 %\n",
            "Accuracy of the network on the 1000 val images:                       21 %\n",
            "Accuracy of the network on the 1000 val images:                       23 %\n",
            "Accuracy of the network on the 1000 val images:                       20 %\n",
            "Accuracy of the network on the 1000 val images:                       21 %\n",
            "Accuracy of the network on the 1000 val images:                       27 %\n",
            "Accuracy of the network on the 1000 val images:                       20 %\n",
            "Accuracy of the network on the 1000 val images:                       19 %\n",
            "Accuracy of the network on the 1000 val images:                       20 %\n",
            "Accuracy of the network on the 1000 val images:                       21 %\n",
            "Accuracy of the network on the 1000 val images:                       19 %\n",
            "Accuracy of the network on the 1000 val images:                       21 %\n",
            "Accuracy of the network on the 1000 val images:                       15 %\n",
            "Finish lr 0.00042171633265087493\n",
            "Accuracy of the network on the 1000 val images:                       19 %\n",
            "Accuracy of the network on the 1000 val images:                       19 %\n",
            "Accuracy of the network on the 1000 val images:                       20 %\n",
            "Accuracy of the network on the 1000 val images:                       19 %\n",
            "Accuracy of the network on the 1000 val images:                       24 %\n",
            "Accuracy of the network on the 1000 val images:                       21 %\n",
            "Accuracy of the network on the 1000 val images:                       18 %\n",
            "Accuracy of the network on the 1000 val images:                       21 %\n",
            "Accuracy of the network on the 1000 val images:                       22 %\n",
            "Accuracy of the network on the 1000 val images:                       25 %\n",
            "Accuracy of the network on the 1000 val images:                       24 %\n",
            "Accuracy of the network on the 1000 val images:                       26 %\n",
            "Accuracy of the network on the 1000 val images:                       20 %\n",
            "Accuracy of the network on the 1000 val images:                       24 %\n",
            "Accuracy of the network on the 1000 val images:                       23 %\n",
            "Accuracy of the network on the 1000 val images:                       22 %\n",
            "Accuracy of the network on the 1000 val images:                       24 %\n",
            "Accuracy of the network on the 1000 val images:                       21 %\n",
            "Accuracy of the network on the 1000 val images:                       17 %\n",
            "Accuracy of the network on the 1000 val images:                       11 %\n",
            "Accuracy of the network on the 1000 val images:                       15 %\n",
            "Accuracy of the network on the 1000 val images:                       14 %\n",
            "Accuracy of the network on the 1000 val images:                       12 %\n",
            "Accuracy of the network on the 1000 val images:                       11 %\n",
            "Accuracy of the network on the 1000 val images:                       16 %\n",
            "Accuracy of the network on the 1000 val images:                       11 %\n",
            "Accuracy of the network on the 1000 val images:                       12 %\n",
            "Accuracy of the network on the 1000 val images:                       11 %\n",
            "Accuracy of the network on the 1000 val images:                       11 %\n",
            "Accuracy of the network on the 1000 val images:                       10 %\n",
            "Accuracy of the network on the 1000 val images:                       11 %\n",
            "Accuracy of the network on the 1000 val images:                       10 %\n",
            "Accuracy of the network on the 1000 val images:                       10 %\n",
            "Accuracy of the network on the 1000 val images:                       10 %\n",
            "Accuracy of the network on the 1000 val images:                       10 %\n",
            "Accuracy of the network on the 1000 val images:                       10 %\n",
            "Accuracy of the network on the 1000 val images:                       10 %\n",
            "Accuracy of the network on the 1000 val images:                       11 %\n",
            "Finish lr 0.0009616202839074522\n",
            "Accuracy of the network on the 1000 val images:                       19 %\n",
            "Accuracy of the network on the 1000 val images:                       23 %\n",
            "Accuracy of the network on the 1000 val images:                       18 %\n",
            "Accuracy of the network on the 1000 val images:                       20 %\n",
            "Accuracy of the network on the 1000 val images:                       23 %\n",
            "Accuracy of the network on the 1000 val images:                       21 %\n",
            "Accuracy of the network on the 1000 val images:                       25 %\n",
            "Accuracy of the network on the 1000 val images:                       23 %\n",
            "Accuracy of the network on the 1000 val images:                       23 %\n",
            "Accuracy of the network on the 1000 val images:                       16 %\n",
            "Accuracy of the network on the 1000 val images:                       19 %\n",
            "Accuracy of the network on the 1000 val images:                       16 %\n",
            "Accuracy of the network on the 1000 val images:                       13 %\n",
            "Accuracy of the network on the 1000 val images:                       11 %\n",
            "Accuracy of the network on the 1000 val images:                       11 %\n",
            "Accuracy of the network on the 1000 val images:                       9 %\n",
            "Accuracy of the network on the 1000 val images:                       13 %\n",
            "Accuracy of the network on the 1000 val images:                       11 %\n",
            "Accuracy of the network on the 1000 val images:                       13 %\n",
            "Accuracy of the network on the 1000 val images:                       11 %\n",
            "Accuracy of the network on the 1000 val images:                       10 %\n",
            "Accuracy of the network on the 1000 val images:                       10 %\n",
            "Accuracy of the network on the 1000 val images:                       10 %\n",
            "Accuracy of the network on the 1000 val images:                       10 %\n",
            "Accuracy of the network on the 1000 val images:                       10 %\n",
            "Accuracy of the network on the 1000 val images:                       11 %\n",
            "Accuracy of the network on the 1000 val images:                       8 %\n",
            "Accuracy of the network on the 1000 val images:                       8 %\n",
            "Accuracy of the network on the 1000 val images:                       8 %\n",
            "Accuracy of the network on the 1000 val images:                       8 %\n",
            "Accuracy of the network on the 1000 val images:                       8 %\n",
            "Accuracy of the network on the 1000 val images:                       8 %\n",
            "Accuracy of the network on the 1000 val images:                       8 %\n",
            "Accuracy of the network on the 1000 val images:                       10 %\n",
            "Accuracy of the network on the 1000 val images:                       10 %\n",
            "Accuracy of the network on the 1000 val images:                       10 %\n",
            "Accuracy of the network on the 1000 val images:                       9 %\n",
            "Accuracy of the network on the 1000 val images:                       9 %\n",
            "Finish lr 0.0021927383381373303\n",
            "Accuracy of the network on the 1000 val images:                       14 %\n",
            "Accuracy of the network on the 1000 val images:                       14 %\n",
            "Accuracy of the network on the 1000 val images:                       16 %\n",
            "Accuracy of the network on the 1000 val images:                       20 %\n",
            "Accuracy of the network on the 1000 val images:                       19 %\n",
            "Accuracy of the network on the 1000 val images:                       15 %\n",
            "Accuracy of the network on the 1000 val images:                       11 %\n",
            "Accuracy of the network on the 1000 val images:                       15 %\n",
            "Accuracy of the network on the 1000 val images:                       12 %\n",
            "Accuracy of the network on the 1000 val images:                       11 %\n",
            "Accuracy of the network on the 1000 val images:                       11 %\n",
            "Accuracy of the network on the 1000 val images:                       9 %\n",
            "Accuracy of the network on the 1000 val images:                       9 %\n",
            "Accuracy of the network on the 1000 val images:                       9 %\n",
            "Accuracy of the network on the 1000 val images:                       9 %\n",
            "Accuracy of the network on the 1000 val images:                       8 %\n",
            "Accuracy of the network on the 1000 val images:                       8 %\n",
            "Accuracy of the network on the 1000 val images:                       8 %\n",
            "Accuracy of the network on the 1000 val images:                       10 %\n",
            "Accuracy of the network on the 1000 val images:                       10 %\n",
            "Accuracy of the network on the 1000 val images:                       10 %\n",
            "Accuracy of the network on the 1000 val images:                       10 %\n",
            "Accuracy of the network on the 1000 val images:                       10 %\n",
            "Accuracy of the network on the 1000 val images:                       9 %\n",
            "Accuracy of the network on the 1000 val images:                       9 %\n",
            "Accuracy of the network on the 1000 val images:                       10 %\n",
            "Accuracy of the network on the 1000 val images:                       10 %\n",
            "Accuracy of the network on the 1000 val images:                       10 %\n",
            "Accuracy of the network on the 1000 val images:                       9 %\n",
            "Accuracy of the network on the 1000 val images:                       9 %\n",
            "Accuracy of the network on the 1000 val images:                       8 %\n",
            "Accuracy of the network on the 1000 val images:                       8 %\n",
            "Accuracy of the network on the 1000 val images:                       8 %\n",
            "Accuracy of the network on the 1000 val images:                       10 %\n",
            "Accuracy of the network on the 1000 val images:                       10 %\n",
            "Accuracy of the network on the 1000 val images:                       10 %\n",
            "Accuracy of the network on the 1000 val images:                       10 %\n",
            "Accuracy of the network on the 1000 val images:                       10 %\n",
            "Finish lr 0.005\n"
          ]
        }
      ],
      "source": [
        "#traindataset = utils.TensorDataset(X_train, y_train)\n",
        "#trainloader = utils.DataLoader(traindataset, batch_size=64, shuffle=True)\n",
        "\n",
        "\n",
        "results = {}\n",
        "best_val = -1\n",
        "best_model = None\n",
        "learning_rates = [3e-6, 5e-3]\n",
        "\n",
        "for lr in np.geomspace(learning_rates[0],learning_rates[1],10):\n",
        "  net = Net(n_feature=3*32*32, n_hidden=500, n_output=10)\n",
        "  loss_func = torch.nn.CrossEntropyLoss()\n",
        "  optimizer = torch.optim.SGD(net.parameters(), lr=lr)\n",
        "\n",
        "  epochs = 1\n",
        "  steps = 0\n",
        "  print_every = 20\n",
        "  for e in range(epochs):\n",
        "      start = time.time()\n",
        "      for images, labels in iter(trainloader):\n",
        "          steps += 1\n",
        "\n",
        "          output = net.forward(images)\n",
        "          loss = loss_func(output, labels)\n",
        "          loss.backward()\n",
        "          #print('Gradient -', net.fc1.weight.grad)\n",
        "          optimizer.step()\n",
        "\n",
        "          ################################################################################\n",
        "          # TODO:                                                                        #\n",
        "          # Run the training process                                                     #\n",
        "          #                                                                              #\n",
        "          ################################################################################\n",
        "          pass\n",
        "          ################################################################################\n",
        "          #                              END OF YOUR CODE                                #\n",
        "          ################################################################################\n",
        "\n",
        "          if steps % print_every == 0:\n",
        "                  stop = time.time()\n",
        "                  # Test accuracy\n",
        "                  net.eval()\n",
        "                  correct = 0\n",
        "                  total = 0\n",
        "                  with torch.no_grad():\n",
        "                      for data in valloader:\n",
        "                            images, labels = data\n",
        "                            outputs = net(images)\n",
        "                            _, predicted = torch.max(F.softmax(outputs).data, 1)\n",
        "                            total += labels.size(0)\n",
        "                            correct += (predicted == labels).sum().item()\n",
        "\n",
        "                      print('Accuracy of the network on the %d val images: \\\n",
        "                      %d %%' % (total,100 * correct / total))\n",
        "\n",
        "                  start = time.time()\n",
        "\n",
        "  acc=100 * correct / total\n",
        "  results[lr]=acc\n",
        "  if acc>best_val:\n",
        "    best_val=acc\n",
        "    best_model=net\n",
        "  print(f'Finish lr {lr}')"
      ]
    },
    {
      "cell_type": "markdown",
      "metadata": {
        "id": "7gx02lf4yA5c"
      },
      "source": [
        "After training, the model should be saved to be tested on the test dataset or to be used in a real-life application. To save your model in pytorch:"
      ]
    },
    {
      "cell_type": "code",
      "source": [
        "results"
      ],
      "metadata": {
        "id": "ZZaSgz-KIL54",
        "outputId": "e667959b-201f-4501-89bc-78af9668ff10",
        "colab": {
          "base_uri": "https://localhost:8080/"
        }
      },
      "execution_count": 81,
      "outputs": [
        {
          "output_type": "execute_result",
          "data": {
            "text/plain": [
              "{1e-07: 4.1,\n",
              " 5.550473077848112e-07: 20.4,\n",
              " 3.08077513879167e-06: 22.1,\n",
              " 1.7099759466766982e-05: 25.4,\n",
              " 9.491175455796852e-05: 29.1,\n",
              " 0.0005268051384453321: 10.9,\n",
              " 0.00292401773821287: 9.2,\n",
              " 0.016229681735100865: 8.1,\n",
              " 0.09008241153272059: 8.1,\n",
              " 0.5: 8.1}"
            ]
          },
          "metadata": {},
          "execution_count": 81
        }
      ]
    },
    {
      "cell_type": "code",
      "execution_count": null,
      "metadata": {
        "id": "cTzmX0nZyA5c"
      },
      "outputs": [],
      "source": [
        "torch.save(net.state_dict(), 'drive/MyDrive/Colab Notebooks/linearClassifier_pytorch.ckpt')"
      ]
    },
    {
      "cell_type": "markdown",
      "metadata": {
        "id": "JdGRq6H7yA5d"
      },
      "source": [
        "Remeber the above path. You need to load your trained model in another notebook:"
      ]
    },
    {
      "cell_type": "code",
      "execution_count": null,
      "metadata": {
        "id": "Y0q1qkYsyA5e"
      },
      "outputs": [],
      "source": [
        "checkpoint = torch.load(\"drive/MyDrive/Colab Notebooks/linearClassifier_pytorch.ckpt\")\n",
        "net.load_state_dict(checkpoint)"
      ]
    }
  ],
  "metadata": {
    "kernelspec": {
      "display_name": "Python 3",
      "language": "python",
      "name": "python3"
    },
    "language_info": {
      "codemirror_mode": {
        "name": "ipython",
        "version": 3
      },
      "file_extension": ".py",
      "mimetype": "text/x-python",
      "name": "python",
      "nbconvert_exporter": "python",
      "pygments_lexer": "ipython3",
      "version": "3.7.0"
    },
    "nteract": {
      "version": "0.12.3"
    },
    "colab": {
      "name": "Linear Classification pytorch.ipynb",
      "provenance": []
    }
  },
  "nbformat": 4,
  "nbformat_minor": 0
}