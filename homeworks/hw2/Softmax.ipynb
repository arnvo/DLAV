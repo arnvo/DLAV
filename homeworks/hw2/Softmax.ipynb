{
  "cells": [
    {
      "cell_type": "markdown",
      "metadata": {
        "id": "xJrRJLBS7DWn"
      },
      "source": [
        "# Softmax exercise\n",
        "\n",
        "We will implement a softmax classifier that is trained on the CIFAR10 dataset. The output is a model that is able to classify the input image into the 10 different classes of the CIFAR10 dataset.\n",
        "\n",
        "Complete and hand in this completed worksheet (including its outputs and any supporting code outside of the worksheet) with your assignment submission.\n",
        "\n",
        "You will:\n",
        "\n",
        "- implement a fully-vectorized **loss function** for the Softmax classifier\n",
        "- implement the fully-vectorized expression for its **analytic gradient**\n",
        "- use a validation set to **tune the learning rate** strength\n",
        "- **optimize** the loss function with **SGD**\n",
        "- **visualize** the final learned weights\n"
      ]
    },
    {
      "cell_type": "code",
      "execution_count": 1,
      "metadata": {
        "id": "KQ8b6HtX7DWs"
      },
      "outputs": [],
      "source": [
        "import random\n",
        "import numpy as np\n",
        "import matplotlib.pyplot as plt\n",
        "import time\n",
        "import pickle\n",
        "from random import shuffle\n",
        "\n",
        "from six.moves import cPickle as pickle\n",
        "import numpy as np\n",
        "import os\n",
        "from imageio import imread\n",
        "import platform\n",
        "from torchvision import datasets\n",
        "\n",
        "\n",
        "%matplotlib inline\n",
        "plt.rcParams['figure.figsize'] = (10.0, 8.0) # set default size of plots\n",
        "plt.rcParams['image.interpolation'] = 'nearest'\n",
        "plt.rcParams['image.cmap'] = 'gray'\n",
        "\n",
        "# for auto-reloading extenrnal modules\n",
        "# see http://stackoverflow.com/questions/1907993/autoreload-of-modules-in-ipython\n",
        "%load_ext autoreload\n",
        "%autoreload 2"
      ]
    },
    {
      "cell_type": "code",
      "source": [
        "from google.colab import drive\n",
        "drive.mount('/content/drive')"
      ],
      "metadata": {
        "id": "rb1FNWrPvqVB",
        "colab": {
          "base_uri": "https://localhost:8080/",
          "height": 304
        },
        "outputId": "bb98af3a-7a6e-4123-f608-ace85f22d800"
      },
      "execution_count": 179,
      "outputs": [
        {
          "output_type": "error",
          "ename": "MessageError",
          "evalue": "Error: credential propagation was unsuccessful",
          "traceback": [
            "\u001b[0;31m---------------------------------------------------------------------------\u001b[0m",
            "\u001b[0;31mMessageError\u001b[0m                              Traceback (most recent call last)",
            "\u001b[0;32m<ipython-input-179-d5df0069828e>\u001b[0m in \u001b[0;36m<cell line: 0>\u001b[0;34m()\u001b[0m\n\u001b[1;32m      1\u001b[0m \u001b[0;32mfrom\u001b[0m \u001b[0mgoogle\u001b[0m\u001b[0;34m.\u001b[0m\u001b[0mcolab\u001b[0m \u001b[0;32mimport\u001b[0m \u001b[0mdrive\u001b[0m\u001b[0;34m\u001b[0m\u001b[0;34m\u001b[0m\u001b[0m\n\u001b[0;32m----> 2\u001b[0;31m \u001b[0mdrive\u001b[0m\u001b[0;34m.\u001b[0m\u001b[0mmount\u001b[0m\u001b[0;34m(\u001b[0m\u001b[0;34m'/content/drive'\u001b[0m\u001b[0;34m)\u001b[0m\u001b[0;34m\u001b[0m\u001b[0;34m\u001b[0m\u001b[0m\n\u001b[0m",
            "\u001b[0;32m/usr/local/lib/python3.11/dist-packages/google/colab/drive.py\u001b[0m in \u001b[0;36mmount\u001b[0;34m(mountpoint, force_remount, timeout_ms, readonly)\u001b[0m\n\u001b[1;32m     98\u001b[0m \u001b[0;32mdef\u001b[0m \u001b[0mmount\u001b[0m\u001b[0;34m(\u001b[0m\u001b[0mmountpoint\u001b[0m\u001b[0;34m,\u001b[0m \u001b[0mforce_remount\u001b[0m\u001b[0;34m=\u001b[0m\u001b[0;32mFalse\u001b[0m\u001b[0;34m,\u001b[0m \u001b[0mtimeout_ms\u001b[0m\u001b[0;34m=\u001b[0m\u001b[0;36m120000\u001b[0m\u001b[0;34m,\u001b[0m \u001b[0mreadonly\u001b[0m\u001b[0;34m=\u001b[0m\u001b[0;32mFalse\u001b[0m\u001b[0;34m)\u001b[0m\u001b[0;34m:\u001b[0m\u001b[0;34m\u001b[0m\u001b[0;34m\u001b[0m\u001b[0m\n\u001b[1;32m     99\u001b[0m   \u001b[0;34m\"\"\"Mount your Google Drive at the specified mountpoint path.\"\"\"\u001b[0m\u001b[0;34m\u001b[0m\u001b[0;34m\u001b[0m\u001b[0m\n\u001b[0;32m--> 100\u001b[0;31m   return _mount(\n\u001b[0m\u001b[1;32m    101\u001b[0m       \u001b[0mmountpoint\u001b[0m\u001b[0;34m,\u001b[0m\u001b[0;34m\u001b[0m\u001b[0;34m\u001b[0m\u001b[0m\n\u001b[1;32m    102\u001b[0m       \u001b[0mforce_remount\u001b[0m\u001b[0;34m=\u001b[0m\u001b[0mforce_remount\u001b[0m\u001b[0;34m,\u001b[0m\u001b[0;34m\u001b[0m\u001b[0;34m\u001b[0m\u001b[0m\n",
            "\u001b[0;32m/usr/local/lib/python3.11/dist-packages/google/colab/drive.py\u001b[0m in \u001b[0;36m_mount\u001b[0;34m(mountpoint, force_remount, timeout_ms, ephemeral, readonly)\u001b[0m\n\u001b[1;32m    135\u001b[0m   )\n\u001b[1;32m    136\u001b[0m   \u001b[0;32mif\u001b[0m \u001b[0mephemeral\u001b[0m\u001b[0;34m:\u001b[0m\u001b[0;34m\u001b[0m\u001b[0;34m\u001b[0m\u001b[0m\n\u001b[0;32m--> 137\u001b[0;31m     _message.blocking_request(\n\u001b[0m\u001b[1;32m    138\u001b[0m         \u001b[0;34m'request_auth'\u001b[0m\u001b[0;34m,\u001b[0m\u001b[0;34m\u001b[0m\u001b[0;34m\u001b[0m\u001b[0m\n\u001b[1;32m    139\u001b[0m         \u001b[0mrequest\u001b[0m\u001b[0;34m=\u001b[0m\u001b[0;34m{\u001b[0m\u001b[0;34m'authType'\u001b[0m\u001b[0;34m:\u001b[0m \u001b[0;34m'dfs_ephemeral'\u001b[0m\u001b[0;34m}\u001b[0m\u001b[0;34m,\u001b[0m\u001b[0;34m\u001b[0m\u001b[0;34m\u001b[0m\u001b[0m\n",
            "\u001b[0;32m/usr/local/lib/python3.11/dist-packages/google/colab/_message.py\u001b[0m in \u001b[0;36mblocking_request\u001b[0;34m(request_type, request, timeout_sec, parent)\u001b[0m\n\u001b[1;32m    174\u001b[0m       \u001b[0mrequest_type\u001b[0m\u001b[0;34m,\u001b[0m \u001b[0mrequest\u001b[0m\u001b[0;34m,\u001b[0m \u001b[0mparent\u001b[0m\u001b[0;34m=\u001b[0m\u001b[0mparent\u001b[0m\u001b[0;34m,\u001b[0m \u001b[0mexpect_reply\u001b[0m\u001b[0;34m=\u001b[0m\u001b[0;32mTrue\u001b[0m\u001b[0;34m\u001b[0m\u001b[0;34m\u001b[0m\u001b[0m\n\u001b[1;32m    175\u001b[0m   )\n\u001b[0;32m--> 176\u001b[0;31m   \u001b[0;32mreturn\u001b[0m \u001b[0mread_reply_from_input\u001b[0m\u001b[0;34m(\u001b[0m\u001b[0mrequest_id\u001b[0m\u001b[0;34m,\u001b[0m \u001b[0mtimeout_sec\u001b[0m\u001b[0;34m)\u001b[0m\u001b[0;34m\u001b[0m\u001b[0;34m\u001b[0m\u001b[0m\n\u001b[0m",
            "\u001b[0;32m/usr/local/lib/python3.11/dist-packages/google/colab/_message.py\u001b[0m in \u001b[0;36mread_reply_from_input\u001b[0;34m(message_id, timeout_sec)\u001b[0m\n\u001b[1;32m    101\u001b[0m     ):\n\u001b[1;32m    102\u001b[0m       \u001b[0;32mif\u001b[0m \u001b[0;34m'error'\u001b[0m \u001b[0;32min\u001b[0m \u001b[0mreply\u001b[0m\u001b[0;34m:\u001b[0m\u001b[0;34m\u001b[0m\u001b[0;34m\u001b[0m\u001b[0m\n\u001b[0;32m--> 103\u001b[0;31m         \u001b[0;32mraise\u001b[0m \u001b[0mMessageError\u001b[0m\u001b[0;34m(\u001b[0m\u001b[0mreply\u001b[0m\u001b[0;34m[\u001b[0m\u001b[0;34m'error'\u001b[0m\u001b[0;34m]\u001b[0m\u001b[0;34m)\u001b[0m\u001b[0;34m\u001b[0m\u001b[0;34m\u001b[0m\u001b[0m\n\u001b[0m\u001b[1;32m    104\u001b[0m       \u001b[0;32mreturn\u001b[0m \u001b[0mreply\u001b[0m\u001b[0;34m.\u001b[0m\u001b[0mget\u001b[0m\u001b[0;34m(\u001b[0m\u001b[0;34m'data'\u001b[0m\u001b[0;34m,\u001b[0m \u001b[0;32mNone\u001b[0m\u001b[0;34m)\u001b[0m\u001b[0;34m\u001b[0m\u001b[0;34m\u001b[0m\u001b[0m\n\u001b[1;32m    105\u001b[0m \u001b[0;34m\u001b[0m\u001b[0m\n",
            "\u001b[0;31mMessageError\u001b[0m: Error: credential propagation was unsuccessful"
          ]
        }
      ]
    },
    {
      "cell_type": "markdown",
      "source": [
        "Load the dataset"
      ],
      "metadata": {
        "id": "pmv_iR7VumNQ"
      }
    },
    {
      "cell_type": "code",
      "source": [
        "def load_pickle(f):\n",
        "    version = platform.python_version_tuple()\n",
        "    if version[0] == '2':\n",
        "        return  pickle.load(f)\n",
        "    elif version[0] == '3':\n",
        "        return  pickle.load(f, encoding='latin1')\n",
        "    raise ValueError(\"invalid python version: {}\".format(version))\n",
        "\n",
        "def load_CIFAR_batch(filename):\n",
        "  \"\"\" load single batch of cifar \"\"\"\n",
        "  with open(filename, 'rb') as f:\n",
        "    datadict = load_pickle(f)\n",
        "    X = datadict['data']\n",
        "    Y = datadict['labels']\n",
        "    X = X.reshape(10000, 3, 32, 32).transpose(0,2,3,1).astype(\"float\")\n",
        "    Y = np.array(Y)\n",
        "    return X, Y\n",
        "\n",
        "def load_CIFAR10(ROOT):\n",
        "  \"\"\" load all of cifar \"\"\"\n",
        "  xs = []\n",
        "  ys = []\n",
        "  datasets.CIFAR10(\n",
        "        root=\"data/\", train=True,\n",
        "        download=True, transform=None,\n",
        "    )\n",
        "  for b in range(1,6):\n",
        "    f = os.path.join(ROOT, 'data_batch_%d' % (b, ))\n",
        "    X, Y = load_CIFAR_batch(f)\n",
        "    xs.append(X)\n",
        "    ys.append(Y)\n",
        "  Xtr = np.concatenate(xs)\n",
        "  Ytr = np.concatenate(ys)\n",
        "  del X, Y\n",
        "  return Xtr, Ytr\n",
        "\n",
        "\n",
        "def get_CIFAR10_data(num_training=49000, num_validation=1000, num_test=1000):\n",
        "    \"\"\"\n",
        "    Load the CIFAR-10 dataset from disk and perform preprocessing to prepare\n",
        "    it for the linear classifier.\n",
        "    \"\"\"\n",
        "    # Load the raw CIFAR-10 data\n",
        "    cifar10_dir = 'data/cifar-10-batches-py'\n",
        "    X_train, y_train = load_CIFAR10(cifar10_dir)\n",
        "\n",
        "    # subsample the data\n",
        "    mask = list(range(num_training, num_training + num_validation))\n",
        "    X_val = X_train[mask]\n",
        "    y_val = y_train[mask]\n",
        "    mask = list(range(num_training))\n",
        "    X_train = X_train[mask]\n",
        "    y_train = y_train[mask]\n",
        "\n",
        "    # Normalize the data: subtract the mean image and divide by variance\n",
        "    mean = np.array([0.4914, 0.4822, 0.4465])\n",
        "    std = np.array([0.2023, 0.1994, 0.2010])\n",
        "    X_train = np.divide(np.subtract( X_train/255 , mean[np.newaxis,np.newaxis,:]), std[np.newaxis,np.newaxis,:])\n",
        "    X_val = np.divide(np.subtract( X_val/255 , mean[np.newaxis,np.newaxis,:]), std[np.newaxis,np.newaxis,:])\n",
        "\n",
        "    # Preprocessing: reshape the image data into rows\n",
        "    X_train = np.reshape(X_train, (X_train.shape[0], -1))\n",
        "    X_val = np.reshape(X_val, (X_val.shape[0], -1))\n",
        "\n",
        "    # add bias dimension and transform into columns\n",
        "    X_train = np.hstack([X_train, np.ones((X_train.shape[0], 1))])\n",
        "    X_val = np.hstack([X_val, np.ones((X_val.shape[0], 1))])\n",
        "\n",
        "    return X_train, y_train, X_val, y_val\n",
        "\n",
        "\n",
        "# Invoke the above function to get our data.\n",
        "X_train, y_train, X_val, y_val = get_CIFAR10_data()\n",
        "print('Train data shape: ', X_train.shape)\n",
        "print('Train labels shape: ', y_train.shape)\n",
        "print('Validation data shape: ', X_val.shape)\n",
        "print('Validation labels shape: ', y_val.shape)"
      ],
      "metadata": {
        "id": "vW0orz8Z7O0e",
        "colab": {
          "base_uri": "https://localhost:8080/"
        },
        "outputId": "8f49ca4c-9f3c-44b8-e2cb-fbedda444bb5"
      },
      "execution_count": 166,
      "outputs": [
        {
          "output_type": "stream",
          "name": "stdout",
          "text": [
            "Train data shape:  (49000, 3073)\n",
            "Train labels shape:  (49000,)\n",
            "Validation data shape:  (1000, 3073)\n",
            "Validation labels shape:  (1000,)\n"
          ]
        }
      ]
    },
    {
      "cell_type": "markdown",
      "metadata": {
        "id": "vWxBSsLD7DWv"
      },
      "source": [
        "## Softmax Classifier\n",
        "\n",
        "Here, you implement **softmax_loss_vectorized**. This function just returns the loss and gradient after applying the softmax function.\n"
      ]
    },
    {
      "cell_type": "code",
      "source": [
        "def softmax_loss_vectorized(W, X, y):\n",
        "    \"\"\"\n",
        "    Softmax loss function, vectorized version.\n",
        "\n",
        "    Inputs have dimension D, there are C classes, and we operate on minibatches\n",
        "    of N examples.\n",
        "\n",
        "    Inputs:\n",
        "    - W: A numpy array of shape (D, C) containing weights.\n",
        "    - X: A numpy array of shape (N, D) containing a minibatch of data.\n",
        "    - y: A numpy array of shape (N,) containing training labels; y[i] = c means\n",
        "    that X[i] has label c, where 0 <= c < C.\n",
        "\n",
        "    Returns a tuple of:\n",
        "    - loss as single float\n",
        "    - gradient with respect to weights W; an array of same shape as W\n",
        "    \"\"\"\n",
        "\n",
        "    n=len(y)\n",
        "    d,c=W.shape\n",
        "\n",
        "    # Initialize the loss and gradient to zero.\n",
        "    loss = 0.0\n",
        "    dW = np.zeros_like(W)\n",
        "\n",
        "    # Compute the loss\n",
        "    res=X@W\n",
        "    S=np.exp(res)\n",
        "    Snorm=(S.T/(S.sum(axis=1))).T # the predicted probability for each class\n",
        "\n",
        "\n",
        "    y_2=y.T.reshape(n,1).repeat(c,axis=1)\n",
        "    grid=np.indices(y_2.shape)[1]\n",
        "    T=(y_2==grid)     # create grid to select the true label probability\n",
        "\n",
        "    loss=(1/n)*np.sum(-np.log((Snorm)[T]))    # average loss of the samples\n",
        "    dW=(1/n)*(X.T)@(Snorm-T.astype(int))      # dL/dW\n",
        "\n",
        "\n",
        "    return loss, dW"
      ],
      "metadata": {
        "id": "aFed4lnK7yfC"
      },
      "execution_count": 112,
      "outputs": []
    },
    {
      "cell_type": "code",
      "source": [
        "X=np.array([[1,4],[2,4],[1,1],[1,10],[7,4]])\n",
        "W=np.array([[4,6,1],[2,3,6]]).astype(float)\n",
        "y=np.array([0,0,1,2,0])\n",
        "\n",
        "\n",
        "softmax_loss_vectorized(W,X,y)"
      ],
      "metadata": {
        "colab": {
          "base_uri": "https://localhost:8080/"
        },
        "id": "k_enIw57zEUl",
        "outputId": "7dcfcb0b-a302-45a7-90ea-275c12ce7830"
      },
      "execution_count": 78,
      "outputs": [
        {
          "output_type": "execute_result",
          "data": {
            "text/plain": [
              "(8.259545551598615,\n",
              " array([[-1.99158152,  1.4166204 ,  0.57496112],\n",
              "        [-2.39156418,  0.8648463 ,  1.52671788]]))"
            ]
          },
          "metadata": {},
          "execution_count": 78
        }
      ]
    },
    {
      "cell_type": "code",
      "source": [
        "X=np.array([[1,4],[2,4],[1,1],[1,10],[7,4]])\n",
        "y=np.array([0,0,1,2,0])\n",
        "losses=[]\n",
        "grads=[]\n",
        "for i in np.linspace(1,7,100):\n",
        "  W=np.array([[i,6,1],[2,3,6]]).astype(float)\n",
        "  a,b=softmax_loss_vectorized(W,X,y)\n",
        "  losses.append(a)\n",
        "  grads.append(b[0,0])\n",
        "  if i==3:\n",
        "    print(W)\n",
        "    print(losses[-1])\n",
        "    print(grads[-1])\n",
        "\n",
        "print(losses[50])\n",
        "print(np.linspace(1,4,100)[50])\n",
        "print(grads[50])\n",
        "\n",
        "plt.plot(np.linspace(1,7,100),losses)\n",
        "plt.plot(np.linspace(1,7,100),grads)\n",
        "plt.show()"
      ],
      "metadata": {
        "colab": {
          "base_uri": "https://localhost:8080/",
          "height": 798
        },
        "id": "2wha4F8J00uQ",
        "outputId": "5d441e6c-e2fd-4511-9b61-c2fe0d5e321f"
      },
      "execution_count": 54,
      "outputs": [
        {
          "output_type": "stream",
          "name": "stdout",
          "text": [
            "[[3. 6. 1.]\n",
            " [2. 3. 6.]]\n",
            "10.2541554697375\n",
            "-1.996822421121171\n",
            "8.199198341763763\n",
            "2.515151515151515\n",
            "-1.9913331769649443\n"
          ]
        },
        {
          "output_type": "display_data",
          "data": {
            "text/plain": [
              "<Figure size 1000x800 with 1 Axes>"
            ],
            "image/png": "[encoded data removed]"
          },
          "metadata": {}
        }
      ]
    },
    {
      "cell_type": "code",
      "source": [
        "X=np.array([[1,4],[2,4],[1,1],[1,10],[7,4]])\n",
        "W=np.array([[4,6,1],[2,3,6]]).astype(float)\n",
        "y=np.array([0,0,1,2,0])\n",
        "\n",
        "y_2=y.T.reshape(5,1).repeat(3,axis=1)\n",
        "grid=np.indices(y_2.shape)[1]\n",
        "\n",
        "S=X@W\n",
        "res=np.exp(S)\n",
        "res=(res.T/(res.sum(axis=1))).T\n",
        "\n",
        "T=(y_2==grid)\n",
        "\n",
        "loss=-np.log((res)[y_2==grid])\n",
        "\n",
        "grad=(X.T)@(res-T.astype(int))\n",
        "\n",
        "print('X')\n",
        "print(X)\n",
        "print('\\nW')\n",
        "print(W)\n",
        "print('\\ny')\n",
        "print(y)\n",
        "print('\\nT')\n",
        "print(T.astype(int))\n",
        "print('\\nSnorm')\n",
        "print(res)\n",
        "print('\\nloss')\n",
        "print(loss.sum())\n",
        "print('\\ngrad')\n",
        "print(grad/len(y))\n"
      ],
      "metadata": {
        "colab": {
          "base_uri": "https://localhost:8080/"
        },
        "id": "FaFKRFi2MD4K",
        "outputId": "1c0743e4-64c0-4773-e910-f7ca8699ab34"
      },
      "execution_count": 21,
      "outputs": [
        {
          "output_type": "stream",
          "name": "stdout",
          "text": [
            "X\n",
            "[[ 1  4]\n",
            " [ 2  4]\n",
            " [ 1  1]\n",
            " [ 1 10]\n",
            " [ 7  4]]\n",
            "\n",
            "W\n",
            "[[4. 6. 1.]\n",
            " [2. 3. 6.]]\n",
            "\n",
            "y\n",
            "[0 0 1 2 0]\n",
            "\n",
            "T\n",
            "[[1 0 0]\n",
            " [1 0 0]\n",
            " [0 1 0]\n",
            " [0 0 1]\n",
            " [1 0 0]]\n",
            "\n",
            "Snorm\n",
            "[[2.25826503e-06 9.11049137e-04 9.99086693e-01]\n",
            " [3.99865265e-05 1.19198156e-01 8.80761858e-01]\n",
            " [4.20100661e-02 8.43794734e-01 1.14195199e-01]\n",
            " [8.53304763e-17 1.38879439e-11 1.00000000e+00]\n",
            " [1.52299795e-08 9.99999985e-01 1.02618795e-10]]\n",
            "\n",
            "loss\n",
            "41.29772775799307\n",
            "\n",
            "grad\n",
            "[[-1.99158152  1.4166204   0.57496112]\n",
            " [-2.39156418  0.8648463   1.52671788]]\n"
          ]
        }
      ]
    },
    {
      "cell_type": "code",
      "source": [
        "W[0,0]=W[0,0]+1\n",
        "S=X@W\n",
        "res=np.exp(S)\n",
        "res=(res.T/(res.sum(axis=1))).T\n",
        "loss1=(-np.log((res)[y_2==grid])).sum()\n",
        "loss1=loss1/len(y)\n",
        "print(W)\n",
        "print(softmax_loss_vectorized(W,X,y)[0])\n",
        "\n",
        "W[0,0]=W[0,0]-2\n",
        "S=X@W\n",
        "res=np.exp(S)\n",
        "res=(res.T/(res.sum(axis=1))).T\n",
        "loss2=(-np.log((res)[y_2==grid])).sum()\n",
        "loss2=loss2/len(y)\n",
        "print(W)\n",
        "print(softmax_loss_vectorized(W,X,y)[0])\n",
        "\n",
        "gradient0=(loss1-loss2)/(2)\n",
        "print(loss1,loss2)\n",
        "print(gradient0)\n",
        "print(len(y))"
      ],
      "metadata": {
        "colab": {
          "base_uri": "https://localhost:8080/"
        },
        "id": "jm22cl20Z33Q",
        "outputId": "c4e93199-2fb1-42f0-b87f-ef521f404490"
      },
      "execution_count": 59,
      "outputs": [
        {
          "output_type": "stream",
          "name": "stdout",
          "text": [
            "[[5. 6. 1.]\n",
            " [2. 3. 6.]]\n",
            "6.273540502970141\n",
            "[[3. 6. 1.]\n",
            " [2. 3. 6.]]\n",
            "10.2541554697375\n",
            "6.273540502970141 10.2541554697375\n",
            "-1.9903074833836794\n",
            "5\n"
          ]
        }
      ]
    },
    {
      "cell_type": "code",
      "source": [
        "a,b=0,0\n",
        "print(S)\n",
        "print(T)\n",
        "\n",
        "S1=res.copy()\n",
        "S1[a,b]=S1[a,b]+0.0000001\n",
        "res=np.exp(S1)\n",
        "res=(res.T/(res.sum(axis=1))).T\n",
        "loss1=(-np.log((res)[y_2==grid])).sum()\n",
        "\n",
        "\n",
        "S2=res.copy()\n",
        "S2[a,b]=S2[a,b]-0.0000001\n",
        "res=np.exp(S2)\n",
        "res=(res.T/(res.sum(axis=1))).T\n",
        "loss2=(-np.log((res)[y_2==grid])).sum()\n",
        "\n",
        "gradient0=(loss1-loss2)/(0.0000002)\n",
        "print(gradient0)\n",
        "grad=res-T.astype(int)\n",
        "print(grad)"
      ],
      "metadata": {
        "id": "Sapn2c74c1EZ",
        "outputId": "b2b2f760-3e14-4172-c0a8-eb50fb6821f2",
        "colab": {
          "base_uri": "https://localhost:8080/"
        }
      },
      "execution_count": null,
      "outputs": [
        {
          "output_type": "stream",
          "name": "stdout",
          "text": [
            "[[12. 18. 25.]\n",
            " [16. 24. 26.]\n",
            " [ 6.  9.  7.]\n",
            " [24. 36. 61.]\n",
            " [36. 54. 31.]]\n",
            "[[ True False False]\n",
            " [ True False False]\n",
            " [False  True False]\n",
            " [False False  True]\n",
            " [ True False False]]\n",
            "554.1112663465242\n",
            "[[-0.66668636  0.33334205  0.3333443 ]\n",
            " [-0.66666733  0.3333328   0.33333453]\n",
            " [ 0.33333274 -0.66666556  0.33333282]\n",
            " [ 0.33333259  0.33333259 -0.66666518]\n",
            " [-0.66666741  0.33333482  0.33333259]]\n"
          ]
        }
      ]
    },
    {
      "cell_type": "code",
      "source": [
        "x=np.array([1,6,3]).T\n",
        "print(x)\n",
        "W=np.array([[4,6,1],[2,3,6]]).astype(float)\n",
        "print(W)\n",
        "print(W@x)"
      ],
      "metadata": {
        "colab": {
          "base_uri": "https://localhost:8080/"
        },
        "id": "2ngz53qxTGUI",
        "outputId": "fc8833e1-02c1-47fa-d9e7-d60499e22800"
      },
      "execution_count": 7,
      "outputs": [
        {
          "output_type": "stream",
          "name": "stdout",
          "text": [
            "[1 6 3]\n",
            "[[4. 6. 1.]\n",
            " [2. 3. 6.]]\n",
            "[43. 38.]\n"
          ]
        }
      ]
    },
    {
      "cell_type": "markdown",
      "source": [
        "## This is the Softmax Linear Classifier.\n",
        "### Implement SGD in the train function.\n",
        "### Write the predict function to evaluate the performance on both the training and validation set\n",
        "### Do not touch the loss function. You already defined it above."
      ],
      "metadata": {
        "id": "DtMJHoylvbEx"
      }
    },
    {
      "cell_type": "code",
      "source": [
        "class LinearClassifier(object):\n",
        "\n",
        "    def __init__(self):\n",
        "        self.W = None\n",
        "\n",
        "    def train(self, X, y, learning_rate=1e-3, num_iters=100,\n",
        "            batch_size=200, verbose=False,plot_prog=False):\n",
        "        \"\"\"\n",
        "        Train this linear classifier using stochastic gradient descent.\n",
        "\n",
        "        Inputs:\n",
        "        - X: A numpy array of shape (N, D) containing training data; there are N\n",
        "            training samples each of dimension D.\n",
        "        - y: A numpy array of shape (N,) containing training labels; y[i] = c\n",
        "            means that X[i] has label 0 <= c < C for C classes.\n",
        "        - learning_rate: (float) learning rate for optimization.\n",
        "        - num_iters: (integer) number of steps to take when optimizing\n",
        "        - batch_size: (integer) number of training examples to use at each step.\n",
        "        - verbose: (boolean) If true, print progress during optimization.\n",
        "\n",
        "        Outputs:\n",
        "        A list containing the value of the loss function at each training iteration.\n",
        "        \"\"\"\n",
        "        num_train, dim = X.shape\n",
        "        num_classes = np.max(y) + 1 # assume y takes values 0...K-1 where K is number of classes\n",
        "        if self.W is None:\n",
        "            # lazily initialize W\n",
        "            self.W = 0.001 * np.random.randn(dim, num_classes)\n",
        "\n",
        "        # Run stochastic gradient descent to optimize W\n",
        "        loss_history = []\n",
        "        W_history=[]\n",
        "        for it in range(num_iters):\n",
        "            #########################################################################\n",
        "            # TODO:                                                                 #\n",
        "            # Sample batch_size elements from the training data and their           #\n",
        "            # corresponding labels to use in this round of gradient descent.        #\n",
        "            # Store the data in X_batch and their corresponding labels in           #\n",
        "            # y_batch; after sampling X_batch should have shape (dim, batch_size)   #\n",
        "            # and y_batch should have shape (batch_size,)                           #\n",
        "            #                                                                       #\n",
        "            # Hint: Use np.random.choice to generate indices. Sampling with         #\n",
        "            # replacement is faster than sampling without replacement.              #\n",
        "            #########################################################################\n",
        "\n",
        "            samples_idx=np.random.choice(num_train,(batch_size))\n",
        "\n",
        "            X_batch = X[samples_idx]\n",
        "            y_batch = y[samples_idx]\n",
        "            #########################################################################\n",
        "            #                       END OF YOUR CODE                                #\n",
        "            #########################################################################\n",
        "\n",
        "            # evaluate loss and gradient and accuracy\n",
        "            loss, grad = self.loss(X_batch, y_batch)\n",
        "            loss_history.append(loss)\n",
        "\n",
        "            # perform parameter update\n",
        "            self.W += -learning_rate*grad\n",
        "\n",
        "            #########################################################################\n",
        "            # TODO:                                                                 #\n",
        "            # Update the weights using the gradient and the learning rate.          #\n",
        "            #########################################################################\n",
        "            pass\n",
        "            #########################################################################\n",
        "            #                       END OF YOUR CODE                                #\n",
        "            #########################################################################\n",
        "\n",
        "            if verbose and it % 100 == 0:\n",
        "                print('iteration %d / %d: loss %f' % (it, num_iters, loss))\n",
        "\n",
        "        if plot_prog==True:\n",
        "          plt.plot(range(num_iters),loss_history)\n",
        "\n",
        "        return loss_history\n",
        "\n",
        "    def train2(self, X, y, learning_rate=1e-3, num_iters=100,\n",
        "            batch_size=200, verbose=False,plot_prog=False):\n",
        "        \"\"\"\n",
        "        Train this linear classifier using stochastic gradient descent.\n",
        "\n",
        "        Inputs:\n",
        "        - X: A numpy array of shape (N, D) containing training data; there are N\n",
        "            training samples each of dimension D.\n",
        "        - y: A numpy array of shape (N,) containing training labels; y[i] = c\n",
        "            means that X[i] has label 0 <= c < C for C classes.\n",
        "        - learning_rate: (float) learning rate for optimization.\n",
        "        - num_iters: (integer) number of steps to take when optimizing\n",
        "        - batch_size: (integer) number of training examples to use at each step.\n",
        "        - verbose: (boolean) If true, print progress during optimization.\n",
        "\n",
        "        Outputs:\n",
        "        A list containing the value of the loss function at each training iteration.\n",
        "        \"\"\"\n",
        "        num_train, dim = X.shape\n",
        "        num_classes = np.max(y) + 1 # assume y takes values 0...K-1 where K is number of classes\n",
        "        if self.W is None:\n",
        "            # lazily initialize W\n",
        "            self.W = 0.001 * np.random.randn(dim, num_classes)\n",
        "\n",
        "        # Run stochastic gradient descent to optimize W\n",
        "        loss_history = []\n",
        "        acc_history=[]\n",
        "        W_history=[]\n",
        "        for it in range(num_iters):\n",
        "            #########################################################################\n",
        "            # TODO:                                                                 #\n",
        "            # Sample batch_size elements from the training data and their           #\n",
        "            # corresponding labels to use in this round of gradient descent.        #\n",
        "            # Store the data in X_batch and their corresponding labels in           #\n",
        "            # y_batch; after sampling X_batch should have shape (dim, batch_size)   #\n",
        "            # and y_batch should have shape (batch_size,)                           #\n",
        "            #                                                                       #\n",
        "            # Hint: Use np.random.choice to generate indices. Sampling with         #\n",
        "            # replacement is faster than sampling without replacement.              #\n",
        "            #########################################################################\n",
        "\n",
        "            samples_idx=np.random.choice(num_train,(batch_size))\n",
        "\n",
        "            X_batch = X[samples_idx]\n",
        "            y_batch = y[samples_idx]\n",
        "            #########################################################################\n",
        "            #                       END OF YOUR CODE                                #\n",
        "            #########################################################################\n",
        "\n",
        "            # evaluate loss and gradient and accuracy\n",
        "            loss, grad = self.loss(X_batch, y_batch)\n",
        "            loss_history.append(loss)\n",
        "\n",
        "\n",
        "            y_pred=np.argmax(X.dot(self.W),axis=1)\n",
        "            acc=((y_pred==y).astype(int)).mean()\n",
        "            acc_history.append(acc)\n",
        "\n",
        "            # perform parameter update\n",
        "            self.W += -learning_rate*grad\n",
        "\n",
        "            #########################################################################\n",
        "            # TODO:                                                                 #\n",
        "            # Update the weights using the gradient and the learning rate.          #\n",
        "            #########################################################################\n",
        "            pass\n",
        "            #########################################################################\n",
        "            #                       END OF YOUR CODE                                #\n",
        "            #########################################################################\n",
        "\n",
        "            if verbose and it % 100 == 0:\n",
        "                print('iteration %d / %d: loss %f' % (it, num_iters, loss))\n",
        "\n",
        "        if plot_prog==True:\n",
        "          plt.plot(range(num_iters),loss_history)\n",
        "          plt.plot(range(num_iters),acc_history)\n",
        "          plt.show()\n",
        "\n",
        "        return loss_history\n",
        "\n",
        "    def predict(self, X):\n",
        "        \"\"\"\n",
        "        Use the trained weights of this linear classifier to predict labels for\n",
        "        data points.\n",
        "\n",
        "        Inputs:\n",
        "        - X: A numpy array of shape (N, D) containing training data; there are N\n",
        "        training samples each of dimension D.\n",
        "\n",
        "        Returns:\n",
        "        - y_pred: Predicted labels for the data in X. y_pred is a 1-dimensional\n",
        "        array of length N, and each element is an integer giving the predicted\n",
        "        class.\n",
        "        \"\"\"\n",
        "        y_pred = np.zeros(X.shape[0])\n",
        "\n",
        "        S=X.dot(self.W)\n",
        "        y_pred=np.argmax(S,axis=1)\n",
        "\n",
        "        ###########################################################################\n",
        "        # TODO:                                                                   #\n",
        "        # Implement this method. Store the predicted labels in y_pred.            #\n",
        "        ###########################################################################\n",
        "\n",
        "        ###########################################################################\n",
        "        #                           END OF YOUR CODE                              #\n",
        "        ###########################################################################\n",
        "        return y_pred\n",
        "\n",
        "    def loss(self, X_batch, y_batch):\n",
        "        \"\"\"\n",
        "        Compute the loss function and its derivative.\n",
        "        Subclasses will override this.\n",
        "\n",
        "        Inputs:\n",
        "        - X_batch: A numpy array of shape (N, D) containing a minibatch of N\n",
        "            data points; each point has dimension D.\n",
        "        - y_batch: A numpy array of shape (N,) containing labels for the minibatch.\n",
        "\n",
        "        Returns: A tuple containing:\n",
        "        - loss as a single float\n",
        "        - gradient with respect to self.W; an array of the same shape as W\n",
        "        \"\"\"\n",
        "        pass\n"
      ],
      "metadata": {
        "id": "nuhecHcsvJU7"
      },
      "execution_count": 195,
      "outputs": []
    },
    {
      "cell_type": "markdown",
      "source": [
        "Finally, the softmax class is inherited from LinearClassifier and uses the softmax_loss_vectorized function as its loss:"
      ],
      "metadata": {
        "id": "Dzy_rjabwTUY"
      }
    },
    {
      "cell_type": "code",
      "source": [
        "WW=[[1,4],[2,3],[1,1]]\n",
        "np.amax(WW,axis=1,keepdims=True)\n",
        "np.argmax(WW,axis=1)"
      ],
      "metadata": {
        "colab": {
          "base_uri": "https://localhost:8080/"
        },
        "id": "L2KFq-xEBljP",
        "outputId": "95cfb8f9-c6e8-403e-8668-d2deba4b09b3"
      },
      "execution_count": 143,
      "outputs": [
        {
          "output_type": "execute_result",
          "data": {
            "text/plain": [
              "array([1, 1, 0])"
            ]
          },
          "metadata": {},
          "execution_count": 143
        }
      ]
    },
    {
      "cell_type": "code",
      "source": [
        "class Softmax(LinearClassifier):\n",
        "    \"\"\" A subclass that uses the Softmax + Cross-entropy loss function \"\"\"\n",
        "\n",
        "    def loss(self, X_batch, y_batch):\n",
        "        return softmax_loss_vectorized(self.W, X_batch, y_batch)"
      ],
      "metadata": {
        "id": "GTqa5eihvOvz"
      },
      "execution_count": 196,
      "outputs": []
    },
    {
      "cell_type": "code",
      "execution_count": 165,
      "metadata": {
        "id": "BomGJP517DWv",
        "colab": {
          "base_uri": "https://localhost:8080/"
        },
        "outputId": "c084a95a-d69a-4554-8fc9-92bf7d3e0a4b"
      },
      "outputs": [
        {
          "output_type": "stream",
          "name": "stdout",
          "text": [
            "vectorized loss: 2.302455e+00 computed in 0.022331s\n"
          ]
        }
      ],
      "source": [
        "W = np.random.randn(3073, 10) * 0.0001\n",
        "tic = time.time()\n",
        "loss_vectorized, grad_vectorized = softmax_loss_vectorized(W, X_val, y_val)\n",
        "toc = time.time()\n",
        "print('vectorized loss: %e computed in %fs' % (loss_vectorized, toc - tic))"
      ]
    },
    {
      "cell_type": "code",
      "source": [
        "sm=Softmax()\n",
        "learn_r=3.156362e-03\n",
        "sm.train(X_train,y_train,learn_r,200,plot_prog=True)\n",
        "''"
      ],
      "metadata": {
        "colab": {
          "base_uri": "https://localhost:8080/",
          "height": 694
        },
        "id": "eqtWtjfOL0ew",
        "outputId": "a119cbfa-9dca-484a-c86c-7afd2a6822f7"
      },
      "execution_count": 199,
      "outputs": [
        {
          "output_type": "display_data",
          "data": {
            "text/plain": [
              "<Figure size 1000x800 with 1 Axes>"
            ],
            "image/png": "[encoded data removed]"
          },
          "metadata": {}
        },
        {
          "output_type": "execute_result",
          "data": {
            "text/plain": [
              "''"
            ],
            "application/vnd.google.colaboratory.intrinsic+json": {
              "type": "string"
            }
          },
          "metadata": {},
          "execution_count": 199
        }
      ]
    },
    {
      "cell_type": "code",
      "execution_count": 181,
      "metadata": {
        "id": "H6Pzyyf47DWw",
        "colab": {
          "base_uri": "https://localhost:8080/"
        },
        "outputId": "a4b30ba8-74bf-4914-d4bc-a03c2794ec00"
      },
      "outputs": [
        {
          "output_type": "stream",
          "name": "stdout",
          "text": [
            "lr 1.000000e-07 train accuracy: 0.106612 val accuracy: 0.101000\n",
            "lr 1.995013e-07 train accuracy: 0.075449 val accuracy: 0.078000\n",
            "lr 3.980078e-07 train accuracy: 0.124837 val accuracy: 0.125000\n",
            "lr 7.940308e-07 train accuracy: 0.169224 val accuracy: 0.158000\n",
            "lr 1.584102e-06 train accuracy: 0.219592 val accuracy: 0.230000\n",
            "lr 3.160305e-06 train accuracy: 0.224694 val accuracy: 0.235000\n",
            "lr 6.304850e-06 train accuracy: 0.261102 val accuracy: 0.270000\n",
            "lr 1.257826e-05 train accuracy: 0.264102 val accuracy: 0.276000\n",
            "lr 2.509379e-05 train accuracy: 0.289510 val accuracy: 0.306000\n",
            "lr 5.006245e-05 train accuracy: 0.318551 val accuracy: 0.325000\n",
            "lr 9.987525e-05 train accuracy: 0.344959 val accuracy: 0.356000\n",
            "lr 1.992525e-04 train accuracy: 0.367122 val accuracy: 0.372000\n",
            "lr 3.975113e-04 train accuracy: 0.383327 val accuracy: 0.387000\n",
            "lr 7.930403e-04 train accuracy: 0.395347 val accuracy: 0.391000\n",
            "lr 1.582126e-03 train accuracy: 0.406469 val accuracy: 0.402000\n",
            "lr 3.156362e-03 train accuracy: 0.414837 val accuracy: 0.410000\n",
            "lr 6.296985e-03 train accuracy: 0.417286 val accuracy: 0.391000\n",
            "lr 1.256257e-02 train accuracy: 0.414939 val accuracy: 0.382000\n",
            "lr 2.506249e-02 train accuracy: 0.335694 val accuracy: 0.309000\n",
            "lr 5.000000e-02 train accuracy: 0.276265 val accuracy: 0.264000\n",
            "best validation accuracy achieved during cross-validation: 0.410000\n"
          ]
        }
      ],
      "source": [
        "# Use the validation set to tune hyperparameters (learning rate).\n",
        "# You should experiment with different ranges for the learning\n",
        "# rates; if you are careful you should be able to\n",
        "# get a classification accuracy of over 0.35 on the validation set.\n",
        "results = {}\n",
        "best_val = -1\n",
        "best_softmax = None\n",
        "learning_rates = [1e-7, 5e-2]\n",
        "\n",
        "for lr in np.geomspace(learning_rates[0],learning_rates[1],20):\n",
        "  model=Softmax()\n",
        "  model.train(X_train,y_train,lr,1000)\n",
        "  acc_train=((model.predict(X_train)==y_train).astype(int)).mean()\n",
        "  y_pred=model.predict(X_val)\n",
        "  acc_val=((y_pred==y_val).astype(int)).mean()\n",
        "  results[lr]=[acc_train,acc_val]\n",
        "  if acc_val>best_val:\n",
        "    best_val=acc_val\n",
        "    best_softmax=model\n",
        "\n",
        "################################################################################\n",
        "# TODO:                                                                        #\n",
        "# Use the validation set to set the learning.                                  #\n",
        "# Save the best trained softmax classifer in best_softmax.                     #\n",
        "################################################################################\n",
        "pass\n",
        "################################################################################\n",
        "#                              END OF YOUR CODE                                #\n",
        "################################################################################\n",
        "\n",
        "# Print out results.\n",
        "for lr in sorted(results):\n",
        "    train_accuracy, val_accuracy = results[lr]\n",
        "    print('lr %e train accuracy: %f val accuracy: %f' % (\n",
        "                lr, train_accuracy, val_accuracy))\n",
        "\n",
        "print('best validation accuracy achieved during cross-validation: %f' % best_val)"
      ]
    },
    {
      "cell_type": "code",
      "execution_count": 182,
      "metadata": {
        "id": "Vpj-_mvS7DWx",
        "colab": {
          "base_uri": "https://localhost:8080/"
        },
        "outputId": "115ba380-ab68-4fca-b712-38fa0b1019ae"
      },
      "outputs": [
        {
          "output_type": "stream",
          "name": "stdout",
          "text": [
            "softmax on raw pixels final test set accuracy: 0.410000\n"
          ]
        }
      ],
      "source": [
        "# evaluate on val set\n",
        "# Evaluate the best softmax on val set\n",
        "y_val_pred = best_softmax.predict(X_val)\n",
        "val_accuracy = np.mean(y_val == y_val_pred)\n",
        "print('softmax on raw pixels final test set accuracy: %f' % (val_accuracy, ))"
      ]
    },
    {
      "cell_type": "markdown",
      "metadata": {
        "id": "CI4FL2_a7DWx"
      },
      "source": [
        "Save the best_softmax weights using pickle:"
      ]
    },
    {
      "cell_type": "code",
      "execution_count": 178,
      "metadata": {
        "id": "U4uK5bgB7DWy",
        "colab": {
          "base_uri": "https://localhost:8080/",
          "height": 159
        },
        "outputId": "78db938c-7385-4a6f-b096-51dbd09e3e56"
      },
      "outputs": [
        {
          "output_type": "error",
          "ename": "FileNotFoundError",
          "evalue": "[Errno 2] No such file or directory: 'drive/MyDrive/Colab Notebooks/softmax_weights.pkl'",
          "traceback": [
            "\u001b[0;31m---------------------------------------------------------------------------\u001b[0m",
            "\u001b[0;31mFileNotFoundError\u001b[0m                         Traceback (most recent call last)",
            "\u001b[0;32m<ipython-input-178-a66cf25f3eaf>\u001b[0m in \u001b[0;36m<cell line: 0>\u001b[0;34m()\u001b[0m\n\u001b[0;32m----> 1\u001b[0;31m \u001b[0;32mwith\u001b[0m \u001b[0mopen\u001b[0m\u001b[0;34m(\u001b[0m\u001b[0;34m'drive/MyDrive/Colab Notebooks/softmax_weights.pkl'\u001b[0m\u001b[0;34m,\u001b[0m \u001b[0;34m'wb'\u001b[0m\u001b[0;34m)\u001b[0m \u001b[0;32mas\u001b[0m \u001b[0mf\u001b[0m\u001b[0;34m:\u001b[0m\u001b[0;34m\u001b[0m\u001b[0;34m\u001b[0m\u001b[0m\n\u001b[0m\u001b[1;32m      2\u001b[0m     \u001b[0mpickle\u001b[0m\u001b[0;34m.\u001b[0m\u001b[0mdump\u001b[0m\u001b[0;34m(\u001b[0m\u001b[0mbest_softmax\u001b[0m\u001b[0;34m.\u001b[0m\u001b[0mW\u001b[0m\u001b[0;34m,\u001b[0m \u001b[0mf\u001b[0m\u001b[0;34m)\u001b[0m\u001b[0;34m\u001b[0m\u001b[0;34m\u001b[0m\u001b[0m\n",
            "\u001b[0;31mFileNotFoundError\u001b[0m: [Errno 2] No such file or directory: 'drive/MyDrive/Colab Notebooks/softmax_weights.pkl'"
          ]
        }
      ],
      "source": [
        "with open('drive/MyDrive/Colab Notebooks/softmax_weights.pkl', 'wb') as f:\n",
        "    pickle.dump(best_softmax.W, f)"
      ]
    },
    {
      "cell_type": "markdown",
      "metadata": {
        "id": "XrQpxEbY7DWz"
      },
      "source": [
        "Load the best_softmax weights using pickle:"
      ]
    },
    {
      "cell_type": "code",
      "execution_count": null,
      "metadata": {
        "id": "P1VkRfIl7DWz"
      },
      "outputs": [],
      "source": [
        "with open('drive/MyDrive/Colab Notebooks/softmax_weights.pkl', 'rb') as f:\n",
        "    W = pickle.load(f)\n",
        "new_softmax = Softmax()\n",
        "new_softmax.W = W.copy()"
      ]
    },
    {
      "cell_type": "markdown",
      "source": [
        "Below is the code to visualize the weights learned for different classes. Try to notice the interesting patterns."
      ],
      "metadata": {
        "id": "2W7b80F_xkWj"
      }
    },
    {
      "cell_type": "code",
      "execution_count": 183,
      "metadata": {
        "id": "NTkVGxZS7DWz",
        "colab": {
          "base_uri": "https://localhost:8080/",
          "height": 528
        },
        "outputId": "8d1e94e9-aebc-4c1a-cdbb-0eafe30274b3"
      },
      "outputs": [
        {
          "output_type": "display_data",
          "data": {
            "text/plain": [
              "<Figure size 1000x800 with 10 Axes>"
            ],
            "image/png": "[encoded data removed]"
          },
          "metadata": {}
        }
      ],
      "source": [
        "# Visualize the learned weights for each class\n",
        "w = best_softmax.W[:-1,:] # strip out the bias\n",
        "w = w.reshape(32, 32, 3, 10)\n",
        "\n",
        "w_min, w_max = np.min(w), np.max(w)\n",
        "\n",
        "classes = ['plane', 'car', 'bird', 'cat', 'deer', 'dog', 'frog', 'horse', 'ship', 'truck']\n",
        "for i in range(10):\n",
        "    plt.subplot(2, 5, i + 1)\n",
        "\n",
        "    # Rescale the weights to be between 0 and 255\n",
        "    wimg = 255.0 * (w[:, :, :, i].squeeze() - w_min) / (w_max - w_min)\n",
        "    plt.imshow(wimg.astype('uint8'))\n",
        "    plt.axis('off')\n",
        "    plt.title(classes[i])"
      ]
    },
    {
      "cell_type": "code",
      "source": [],
      "metadata": {
        "id": "oYKmBFJb_Z2p"
      },
      "execution_count": null,
      "outputs": []
    }
  ],
  "metadata": {
    "kernelspec": {
      "display_name": "Python 3",
      "language": "python",
      "name": "python3"
    },
    "language_info": {
      "codemirror_mode": {
        "name": "ipython",
        "version": 3
      },
      "file_extension": ".py",
      "mimetype": "text/x-python",
      "name": "python",
      "nbconvert_exporter": "python",
      "pygments_lexer": "ipython3",
      "version": "3.8.3"
    },
    "colab": {
      "name": "Softmax.ipynb",
      "provenance": []
    }
  },
  "nbformat": 4,
  "nbformat_minor": 0
}