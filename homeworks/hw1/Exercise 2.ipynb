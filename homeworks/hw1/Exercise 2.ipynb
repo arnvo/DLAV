{
  "cells": [
    {
      "cell_type": "markdown",
      "metadata": {
        "id": "oiCbhpBBBxZY"
      },
      "source": [
        "# Intro to Python: Exercise 2\n",
        "\n",
        "## Pairwise Distances in the Plane\n",
        "\n",
        "One application of machine learning to computer vision is interest point tracking. The location of corners in an image is tracked along subsequent frames of a video signal. In this context, one is often interested in the pairwise distance of all points in the first frame to all points in the second frame. Matching points according to minimal distance is a simple heuristic that works well if many interest points are found in both frames and perturbations are small.\n",
        "Write a function that accepts two matrices P ∈ R<sup>p×2</sup>,Q ∈ R<sup>q×2</sup> as input, where each row contains the (x,y) coordinates of an interest point. Note that the number of points (p and q) do not have to be equal. As output, compute the pairwise distances of all points in P to all points in Q and collect them in matrix D. Element D<sub>i,j</sub> is the Euclidean distance of the i-th point in P to the j-th point in Q."
      ]
    },
    {
      "cell_type": "code",
      "execution_count": 8,
      "metadata": {
        "colab": {
          "base_uri": "https://localhost:8080/"
        },
        "id": "npwA6fHeBxZa",
        "outputId": "bc072fae-d14d-4c2a-e229-bbe65d6d1909"
      },
      "outputs": [
        {
          "output_type": "stream",
          "name": "stdout",
          "text": [
            "The autoreload extension is already loaded. To reload it, use:\n",
            "  %reload_ext autoreload\n"
          ]
        }
      ],
      "source": [
        "%matplotlib inline\n",
        "import numpy as np\n",
        "import matplotlib.pyplot as plt\n",
        "%load_ext autoreload\n",
        "%autoreload 2"
      ]
    },
    {
      "cell_type": "markdown",
      "metadata": {
        "id": "zrDQj3tZBxZb"
      },
      "source": [
        "Data Generation\n",
        "==="
      ]
    },
    {
      "cell_type": "code",
      "execution_count": 9,
      "metadata": {
        "colab": {
          "base_uri": "https://localhost:8080/"
        },
        "id": "rqYg5rv1BxZc",
        "outputId": "254ade5a-ae32-4f77-fa66-e37a9606bb7b"
      },
      "outputs": [
        {
          "output_type": "stream",
          "name": "stdout",
          "text": [
            "[[0.77132064 0.02075195]\n",
            " [0.63364823 0.74880388]\n",
            " [0.49850701 0.22479665]\n",
            " [0.19806286 0.76053071]] \n",
            "\n",
            " [[0.16911084 0.08833981]\n",
            " [0.68535982 0.95339335]\n",
            " [0.00394827 0.51219226]\n",
            " [0.81262096 0.61252607]\n",
            " [0.72175532 0.29187607]]\n"
          ]
        }
      ],
      "source": [
        "np.random.seed(10)\n",
        "p, q = (np.random.rand(i, 2) for i in (4, 5))\n",
        "p_big, q_big = (np.random.rand(i, 80) for i in (100, 120))\n",
        "\n",
        "print(p, \"\\n\\n\", q)"
      ]
    },
    {
      "cell_type": "markdown",
      "metadata": {
        "id": "ptHOYx9EBxZc"
      },
      "source": [
        "Solution\n",
        "==="
      ]
    },
    {
      "cell_type": "code",
      "execution_count": 11,
      "metadata": {
        "collapsed": true,
        "colab": {
          "base_uri": "https://localhost:8080/"
        },
        "id": "RlY0_JsNBxZc",
        "outputId": "f063347f-9659-4be1-d473-fd3bc1302d0a"
      },
      "outputs": [
        {
          "output_type": "stream",
          "name": "stdout",
          "text": [
            "[[0.60599073 0.93659449 0.91124856 0.59321356 0.27561751]\n",
            " [0.80746999 0.21102354 0.67268649 0.22495084 0.46534491]\n",
            " [0.35654215 0.75217493 0.57200052 0.49900068 0.23310825]\n",
            " [0.67281411 0.52407472 0.31520226 0.63212897 0.70277376]]\n"
          ]
        }
      ],
      "source": [
        "def naive(p, q):\n",
        "    D=np.zeros((p.shape[0],q.shape[0]))\n",
        "    for i in range(p.shape[0]):\n",
        "      for j in range(q.shape[0]):\n",
        "        D[i,j]=np.linalg.norm(p[i,:]-q[j,:])\n",
        "    return D\n",
        "\n",
        "print(naive(p,q))"
      ]
    },
    {
      "cell_type": "markdown",
      "metadata": {
        "id": "9yxUqM2kBxZc"
      },
      "source": [
        "### Use matching indices\n",
        "\n",
        "Instead of iterating through indices, one can use them directly to parallelize the operations with Numpy."
      ]
    },
    {
      "cell_type": "code",
      "execution_count": null,
      "metadata": {
        "id": "8cXR-ut5BxZd"
      },
      "outputs": [],
      "source": [
        "rows, cols = np.indices((p.shape[0], q.shape[0]))\n",
        "print(rows, end='\\n\\n')\n",
        "print(cols)"
      ]
    },
    {
      "cell_type": "code",
      "execution_count": null,
      "metadata": {
        "id": "sx9NtPbVBxZd"
      },
      "outputs": [],
      "source": [
        "print(p[rows.ravel()], end='\\n\\n')\n",
        "print(q[cols.ravel()])"
      ]
    },
    {
      "cell_type": "code",
      "execution_count": null,
      "metadata": {
        "collapsed": true,
        "id": "EbNcWplFBxZd"
      },
      "outputs": [],
      "source": [
        "def with_indices(p, q):\n",
        "    ''' fill your code in here...\n",
        "    '''"
      ]
    },
    {
      "cell_type": "markdown",
      "metadata": {
        "id": "Ii_iKpT4BxZd"
      },
      "source": [
        "### Use a library\n",
        "\n",
        "`scipy` is the equivalent of matlab toolboxes and have a lot to offer. Actually the pairwise computation is part of the library through the `spatial` module."
      ]
    },
    {
      "cell_type": "code",
      "execution_count": null,
      "metadata": {
        "id": "JQmvKn0CBxZe"
      },
      "outputs": [],
      "source": [
        "from scipy.spatial.distance import cdist\n",
        "\n",
        "def scipy_version(p, q):\n",
        "    return cdist(p, q)"
      ]
    },
    {
      "cell_type": "markdown",
      "metadata": {
        "id": "2HXmmIlVBxZe"
      },
      "source": [
        "### Numpy Magic"
      ]
    },
    {
      "cell_type": "code",
      "execution_count": null,
      "metadata": {
        "id": "qy5ll9UABxZe"
      },
      "outputs": [],
      "source": [
        "def tensor_broadcasting(p, q):\n",
        "    return np.sqrt(np.sum((p[:,np.newaxis,:]-q[np.newaxis,:,:])**2, axis=2))"
      ]
    },
    {
      "cell_type": "markdown",
      "metadata": {
        "id": "G3h6N5EtBxZe"
      },
      "source": [
        "# Compare methods"
      ]
    },
    {
      "cell_type": "code",
      "execution_count": null,
      "metadata": {
        "id": "Z6gNdbxeBxZe"
      },
      "outputs": [],
      "source": [
        "methods = [naive, with_indices, scipy_version, tensor_broadcasting]\n",
        "timers = []\n",
        "for f in methods:\n",
        "    r = %timeit -o f(p_big, q_big)\n",
        "    timers.append(r)"
      ]
    },
    {
      "cell_type": "code",
      "execution_count": null,
      "metadata": {
        "id": "CeLAzZFzBxZe"
      },
      "outputs": [],
      "source": [
        "plt.figure(figsize=(10,6))\n",
        "plt.bar(np.arange(len(methods)), [r.best*1000 for r in timers], log=False)  # Set log to True for logarithmic scale\n",
        "plt.xticks(np.arange(len(methods))+0.2, [f.__name__ for f in methods], rotation=30)\n",
        "plt.xlabel('Method')\n",
        "plt.ylabel('Time (ms)')\n",
        "plt.show()"
      ]
    },
    {
      "cell_type": "code",
      "execution_count": null,
      "metadata": {
        "collapsed": true,
        "id": "sRzlJNi0BxZf"
      },
      "outputs": [],
      "source": []
    }
  ],
  "metadata": {
    "kernelspec": {
      "display_name": "Python 3",
      "language": "python",
      "name": "python3"
    },
    "language_info": {
      "codemirror_mode": {
        "name": "ipython",
        "version": 3
      },
      "file_extension": ".py",
      "mimetype": "text/x-python",
      "name": "python",
      "nbconvert_exporter": "python",
      "pygments_lexer": "ipython3",
      "version": "3.6.4"
    },
    "colab": {
      "provenance": []
    }
  },
  "nbformat": 4,
  "nbformat_minor": 0
}